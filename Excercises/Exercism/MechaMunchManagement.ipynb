{
 "cells": [
  {
   "cell_type": "markdown",
   "id": "4550fc4e",
   "metadata": {},
   "source": [
    "# Exercise Link: https://exercism.org/tracks/python/exercises/mecha-munch-management\n",
    "\n"
   ]
  },
  {
   "cell_type": "code",
   "execution_count": null,
   "id": "6644f584",
   "metadata": {},
   "outputs": [],
   "source": [
    "# Task 1:\n",
    "\n",
    "def add_item(current_cart, items_to_add):\n",
    "    \"\"\"Add items to shopping cart.\n",
    "\n",
    "    :param current_cart: dict - the current shopping cart.\n",
    "    :param items_to_add: iterable - items to add to the cart.\n",
    "    :return: dict - the updated user cart dictionary.\n",
    "    \"\"\"\n",
    "\n",
    "    for item in items_to_add:\n",
    "        if item in current_cart:\n",
    "            current_cart[item] += 1\n",
    "        else:\n",
    "            current_cart[item] = 1\n",
    "    \n",
    "    return current_cart\n"
   ]
  },
  {
   "cell_type": "code",
   "execution_count": null,
   "id": "3ef65038",
   "metadata": {},
   "outputs": [],
   "source": [
    "# Task 2:\n",
    "\n",
    "def read_notes(notes):\n",
    "    \"\"\"Create user cart from an iterable notes entry.\n",
    "\n",
    "    :param notes: iterable of items to add to cart.\n",
    "    :return: dict - a user shopping cart dictionary.\n",
    "    \"\"\"\n",
    "\n",
    "    new_dict = dict()\n",
    "    \n",
    "    for item in notes:\n",
    "        new_dict[item] = 1\n",
    "\n",
    "    return new_dict"
   ]
  },
  {
   "cell_type": "code",
   "execution_count": null,
   "id": "28531ee2",
   "metadata": {},
   "outputs": [],
   "source": [
    "# Task 3:\n",
    "\n",
    "def update_recipes(ideas, recipe_updates):\n",
    "    \"\"\"Update the recipe ideas dictionary.\n",
    "\n",
    "    :param ideas: dict - The \"recipe ideas\" dict.\n",
    "    :param recipe_updates: dict - dictionary with updates for the ideas section.\n",
    "    :return: dict - updated \"recipe ideas\" dict.\n",
    "    \"\"\"\n",
    "\n",
    "    for recipe_name, recipe_ingredients in recipe_updates:\n",
    "        ideas[recipe_name] = recipe_ingredients\n",
    "\n",
    "    return ideas"
   ]
  },
  {
   "cell_type": "code",
   "execution_count": null,
   "id": "87995bc5",
   "metadata": {},
   "outputs": [],
   "source": [
    "# Task 4:\n",
    "\n",
    "def sort_entries(cart):\n",
    "    \"\"\"Sort a users shopping cart in alphabetically order.\n",
    "\n",
    "    :param cart: dict - a users shopping cart dictionary.\n",
    "    :return: dict - users shopping cart sorted in alphabetical order.\n",
    "    \"\"\"\n",
    "\n",
    "    sorted_cart = dict(sorted(cart.items()))\n",
    "\n",
    "    return sorted_cart"
   ]
  },
  {
   "cell_type": "code",
   "execution_count": null,
   "id": "f68c392c",
   "metadata": {},
   "outputs": [],
   "source": [
    "# Task 5:\n",
    "\n",
    "def send_to_store(cart, aisle_mapping):\n",
    "    \"\"\"Combine users order to aisle and refrigeration information.\n",
    "\n",
    "    :param cart: dict - users shopping cart dictionary.\n",
    "    :param aisle_mapping: dict - aisle and refrigeration information dictionary.\n",
    "    :return: dict - fulfillment dictionary ready to send to store.\n",
    "    \"\"\"\n",
    "\n",
    "    # {'item': [quantity, 'aisle_no', needs_refrig]}\n",
    "\n",
    "    fulfillment_cart = dict()\n",
    "\n",
    "    for k, v in cart.items():\n",
    "        fulfillment_cart[k] = [v, aisle_mapping[k][0], aisle_mapping[k][1]]\n",
    "\n",
    "    fulfillment_cart = sorted(fulfillment_cart.items(), reverse=True)\n",
    "\n",
    "    return fulfillment_cart"
   ]
  },
  {
   "cell_type": "code",
   "execution_count": null,
   "id": "5f86b636",
   "metadata": {},
   "outputs": [],
   "source": [
    "# Task 6:\n",
    "\n",
    "def update_store_inventory(fulfillment_cart, store_inventory):\n",
    "    \"\"\"Update store inventory levels with user order.\n",
    "\n",
    "    :param fulfillment cart: dict - fulfillment cart to send to store.\n",
    "    :param store_inventory: dict - store available inventory\n",
    "    :return: dict - store_inventory updated.\n",
    "    \"\"\"\n",
    "\n",
    "    for k, v in fulfillment_cart.items():\n",
    "        if k in store_inventory:\n",
    "            num_ordered_items = fulfillment_cart[k][0]\n",
    "            store_inventory[k][0] -= num_ordered_items\n",
    "            if store_inventory[k][0] <= 0:\n",
    "                store_inventory[k][0] = 'Out of Stock'\n",
    "\n",
    "    return store_inventory"
   ]
  }
 ],
 "metadata": {
  "kernelspec": {
   "display_name": ".venv",
   "language": "python",
   "name": "python3"
  },
  "language_info": {
   "name": "python",
   "version": "3.12.3"
  }
 },
 "nbformat": 4,
 "nbformat_minor": 5
}
