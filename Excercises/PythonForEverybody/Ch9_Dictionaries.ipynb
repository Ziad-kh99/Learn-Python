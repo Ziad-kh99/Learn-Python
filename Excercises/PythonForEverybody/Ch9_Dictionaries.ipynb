{
 "cells": [
  {
   "cell_type": "code",
   "execution_count": null,
   "metadata": {},
   "outputs": [
    {
     "data": {
      "text/plain": [
       "False"
      ]
     },
     "execution_count": 26,
     "metadata": {},
     "output_type": "execute_result"
    }
   ],
   "source": [
    "# Dictionary Difinition:\n",
    "\n",
    "eng2sp = dict()     # create new empty dict.\n",
    "\n",
    "type(eng2sp)        # class <dict>\n",
    "eng2sp              # {} => empty dict.\n",
    "\n",
    "\n",
    "# Add items to dict.\n",
    "eng2sp['one'] = 'uno'\n",
    "\n",
    "\n",
    "# create dict with some itmes:\n",
    "eng2sp = {'one': 'uno', 'two': 'dos', 'three': 'tree'}\n",
    "\n",
    "eng2sp\n",
    "\n",
    "# Get a value based on key:\n",
    "eng2sp['three']\n",
    "# eng2sp['four']      # KeyError.\n",
    "\n",
    "# Search for a key:\n",
    "'Five' in eng2sp        # F\n",
    "'Two' in eng2sp         # F , keys are case sesitive.\n",
    "'two' in eng2sp         # T\n",
    "\n",
    "keys = eng2sp.keys()\n",
    "type(keys)       # dict_keys\n",
    "\n",
    "\n",
    "# Get dict values:\n",
    "values = eng2sp.values()\n",
    "type(values)    # dict_values\n",
    "\n",
    "list_values = list(values)   # convert values to a list.\n",
    "type(list_values)        # list\n",
    "\n",
    "'uno' in list_values    # T\n",
    "'Dos' in list_values    # F\n",
    "\n",
    "\n"
   ]
  },
  {
   "cell_type": "code",
   "execution_count": null,
   "metadata": {},
   "outputs": [
    {
     "data": {
      "text/plain": [
       "{'b': 1, 'r': 2, 'o': 2, 'n': 1, 't': 1, 's': 2, 'a': 1, 'u': 2}"
      ]
     },
     "execution_count": 72,
     "metadata": {},
     "output_type": "execute_result"
    }
   ],
   "source": [
    "# Histogram - Letter counter:\n",
    "\n",
    "word = 'brontosaurus'\n",
    "\n",
    "counter = dict()\n",
    "\n",
    "for letter in word:\n",
    "    if letter in counter:\n",
    "        counter[letter] = counter[letter] + 1\n",
    "    else:\n",
    "        counter[letter] = 1\n",
    "\n",
    "\n",
    "# get method takes a key & defalut value if key exists return its value if not return defalut.\n",
    "counter.get('o', 99)\n",
    "counter.get('z', 99)\n",
    "\n",
    "\n",
    "# Improve our Histogram: 'Do It In A Pythonic Way'\n",
    "word = 'brontosaurus'\n",
    "\n",
    "d = dict()\n",
    "\n",
    "for c in word:\n",
    "    d[c] = d.get(c, 0) + 1\n",
    "\n"
   ]
  },
  {
   "cell_type": "code",
   "execution_count": 81,
   "metadata": {},
   "outputs": [
    {
     "name": "stdout",
     "output_type": "stream",
     "text": [
      "Hossam 1\n",
      "Ziad 2\n",
      "Hadeel 3\n",
      "Mohamed 4\n",
      "{'Hossam': 1, 'Ziad': 2, 'Hadeel': 3, 'Mohamed': 4}\n",
      "{'Hadeel': 3, 'Hossam': 1, 'Mohamed': 4, 'Ziad': 2}\n"
     ]
    }
   ],
   "source": [
    "# Looping over dictionary:\n",
    "\n",
    "dic = {'Hossam': 1, 'Ziad': 2, 'Hadeel': 3, 'Mohamed': 4}\n",
    "\n",
    "for e in dic:            # loop variable 'e' represent dict-key.\n",
    "    print(e, dic[e])\n",
    "\n",
    "\n",
    "\n",
    "# Sort Keys alphabetically:\n",
    "keys_list = list(dic.keys())\n",
    "sorted_dic = dict()\n",
    "\n",
    "keys_list.sort()\n",
    "\n",
    "for e in keys_list:\n",
    "    for k in dic:\n",
    "        if e == k:\n",
    "            sorted_dic[k] = d[k]\n",
    "\n",
    "print(dic)\n",
    "print(sorted_dic)\n",
    "\n",
    "\n"
   ]
  },
  {
   "cell_type": "code",
   "execution_count": null,
   "metadata": {},
   "outputs": [
    {
     "name": "stdout",
     "output_type": "stream",
     "text": [
      "But, soft! what light through yonder window breaks?\n",
      "But soft what light through yonder window breaks\n"
     ]
    }
   ],
   "source": [
    "# Advaced Text Parsing:\n",
    "\n",
    "import string\n",
    "\n",
    "\n",
    "file_name = input('Enter file name: ')\n",
    "\n",
    "try:\n",
    "    file_handle = open(file_name)\n",
    "except:\n",
    "    print(f'Cannnot opent file: {file_name}')\n",
    "    exit()\n",
    "\n",
    "count = dict()\n",
    "\n",
    "for line in file_handle:\n",
    "    line = line.strip()\n",
    "    line = line.translate(line.maketrans('', '', string.punctuation))\n",
    "    line = line.lower()\n",
    "\n",
    "    words = line.split()\n",
    "\n",
    "    for word in words:\n",
    "        count[word] = count.get(word, 0) + 1\n",
    "\n",
    "print(count)"
   ]
  },
  {
   "cell_type": "code",
   "execution_count": null,
   "metadata": {},
   "outputs": [
    {
     "data": {
      "text/plain": [
       "dict_keys(['Writing', 'programs', 'or', 'programming', 'is', 'a', 'very', 'creative', 'and', 'rewarding', 'activity', 'You', 'can', 'write', 'for', 'many', 'reasons', 'ranging', 'from', 'making', 'your', 'living', 'to', 'solving', 'difficult', 'data', 'analysis', 'problem', 'having', 'fun', 'helping', 'someone', 'else', 'solve', 'This', 'book', 'assumes', 'that', '{\\\\em', 'everyone}', 'needs', 'know', 'how', 'program', 'once', 'you', 'program,', 'will', 'figure', 'out', 'what', 'want', 'do', 'with', 'newfound', 'skills', 'We', 'are', 'surrounded', 'in', 'our', 'daily', 'lives', 'computers', 'laptops', 'cell', 'phones', 'think', 'of', 'these', 'as', 'personal', 'assistants', 'who', 'take', 'care', 'things', 'on', 'behalf', 'The', 'hardware', 'current-day', 'essentially', 'built', 'continuously', 'ask', 'us', 'the', 'question', 'What', 'would', 'like', 'me', 'next', 'Our', 'fast', 'have', 'vasts', 'amounts', 'memory', 'could', 'be', 'helpful', 'if', 'we', 'only', 'knew', 'language', 'speak', 'explain', 'computer', 'it', 'If', 'this', 'tell', 'tasks', 'were', 'reptitive', 'Interestingly,', 'kinds', 'best', 'often', 'humans', 'find', 'boring', 'mind-numbing'])"
      ]
     },
     "execution_count": 61,
     "metadata": {},
     "output_type": "execute_result"
    }
   ],
   "source": [
    "# Excercise 1: \n",
    "# Excercise Statement:\n",
    "    # Write a program that reads the words in words.txt and stores them as keys in\n",
    "    # a dictionary. It doesn’t matter what the values are. Then you can use the in\n",
    "    # operator as a fast way to check whether a string is in the dictionary.\n",
    "\n",
    "\n",
    "file_handel = open('words.txt')\n",
    "words = dict()\n",
    "\n",
    "for line in file_handel:\n",
    "    line = line.split()\n",
    "    for word in line:\n",
    "        words[word] = 0\n",
    "\n",
    "\n"
   ]
  },
  {
   "cell_type": "code",
   "execution_count": null,
   "metadata": {},
   "outputs": [],
   "source": [
    "# Excercise 2:\n",
    "\n",
    "file_name = input('Enter file name: ')\n",
    "\n",
    "try:\n",
    "    file_handle = open(file_name)\n",
    "except:\n",
    "    print(f'Cannot open file: {file_name}')\n",
    "    exit()\n",
    "\n",
    "\n",
    "days_dict = dict()\n",
    "\n",
    "for line in file_handle:\n",
    "    if line.startswith('From '):\n",
    "        day = line.split()[2]\n",
    "        days_dict[day] = days_dict.get(day, 0) + 1\n",
    "\n",
    "\n",
    "print(days_dict)"
   ]
  },
  {
   "cell_type": "code",
   "execution_count": null,
   "metadata": {},
   "outputs": [],
   "source": [
    "# Excercise 3:\n",
    "\n",
    "file_name = input('Enter file name: ')\n",
    "\n",
    "try:\n",
    "    file_handle = open(file_name)\n",
    "except:\n",
    "    print(f'Cannot open file: {file_name}')\n",
    "    exit()\n",
    "\n",
    "\n",
    "emails_dict = dict()\n",
    "\n",
    "for line in file_handle:\n",
    "    if line.startswith('From '):\n",
    "        email = line.split()[1]\n",
    "        emails_dict[email] = emails_dict.get(email, 0) + 1\n",
    "\n",
    "print(emails_dict)\n",
    "\n",
    "\n"
   ]
  },
  {
   "cell_type": "code",
   "execution_count": null,
   "metadata": {},
   "outputs": [],
   "source": [
    "# Excercise 4:\n",
    "\n",
    "file_name = input('Enter file name: ')\n",
    "\n",
    "try:\n",
    "    file_handle = open(file_name)\n",
    "except:\n",
    "    print(f'Cannot open file: {file_name}')\n",
    "    exit()\n",
    "\n",
    "\n",
    "emails_dict = dict()\n",
    "\n",
    "for line in file_handle:\n",
    "    if line.startswith('From '):\n",
    "        email = line.split()[1]\n",
    "        emails_dict[email] = emails_dict.get(email, 0) + 1\n",
    "\n",
    "\n",
    "num_of_msgs = list(emails_dict.values())\n",
    "\n",
    "_max = max(num_of_msgs) \n",
    "\n",
    "for key in emails_dict:\n",
    "    if emails_dict[key] == _max:\n",
    "        print(key, emails_dict[key])\n"
   ]
  },
  {
   "cell_type": "code",
   "execution_count": null,
   "metadata": {},
   "outputs": [],
   "source": [
    "# Excercise 5:\n",
    "\n",
    "file_name = input('Enter file name: ')\n",
    "\n",
    "try:\n",
    "    file_handle = open(file_name)\n",
    "except:\n",
    "    print(f'Cannot open file: {file_name}')\n",
    "    exit()\n",
    "\n",
    "\n",
    "emails_dict = dict()\n",
    "\n",
    "for line in file_handle:\n",
    "    if line.startswith('From '):\n",
    "        email = line.split()[1]\n",
    "        email = email.split('@')[1]\n",
    "        emails_dict[email] = emails_dict.get(email, 0) + 1\n",
    "\n",
    "\n",
    "print(emails_dict)"
   ]
  }
 ],
 "metadata": {
  "kernelspec": {
   "display_name": "Python 3",
   "language": "python",
   "name": "python3"
  },
  "language_info": {
   "codemirror_mode": {
    "name": "ipython",
    "version": 3
   },
   "file_extension": ".py",
   "mimetype": "text/x-python",
   "name": "python",
   "nbconvert_exporter": "python",
   "pygments_lexer": "ipython3",
   "version": "3.12.3"
  }
 },
 "nbformat": 4,
 "nbformat_minor": 2
}
