{
 "cells": [
  {
   "cell_type": "code",
   "execution_count": 60,
   "metadata": {},
   "outputs": [
    {
     "data": {
      "text/plain": [
       "50"
      ]
     },
     "execution_count": 60,
     "metadata": {},
     "output_type": "execute_result"
    }
   ],
   "source": [
    "# Random Numbers: \n",
    "\n",
    "import random\n",
    "\n",
    "for i in range(10):             # range(10) 0, 9, 1\n",
    "    x = random.random()\n",
    "    # print(x)\n",
    "\n",
    "\n",
    "for i in range(10):\n",
    "    x = random.randint(5, 15)\n",
    "    # print(x)\n",
    "\n",
    "my_list = [1, 10, 20, 30, 40, 50, 60]\n",
    "random.choice(my_list)\n",
    "\n",
    "\n"
   ]
  },
  {
   "cell_type": "code",
   "execution_count": 2,
   "metadata": {},
   "outputs": [
    {
     "name": "stdout",
     "output_type": "stream",
     "text": [
      "I'm a lumberjack, and I'm okey.\n",
      "I sleep all night, and I work all day.\n",
      "I'm a lumberjack, and I'm okey.\n",
      "I sleep all night, and I work all day.\n"
     ]
    }
   ],
   "source": [
    "# Define Functions:\n",
    "\n",
    "\n",
    "\n",
    "def repeat_lyrics():\n",
    "    print_lyrics()\n",
    "    print_lyrics()\n",
    "\n",
    "def print_lyrics():\n",
    "    print('I\\'m a lumberjack, and I\\'m okey.')\n",
    "    print('I sleep all night, and I work all day.')\n",
    "    \n",
    "repeat_lyrics()"
   ]
  },
  {
   "cell_type": "code",
   "execution_count": 8,
   "metadata": {},
   "outputs": [
    {
     "name": "stdout",
     "output_type": "stream",
     "text": [
      "Spam\n",
      "Spam\n",
      "1999\n",
      "1999\n",
      "3.141592653589793\n",
      "3.141592653589793\n",
      "Hello Hello Hello Hello \n",
      "Hello Hello Hello Hello \n",
      "-1.0\n",
      "-1.0\n"
     ]
    }
   ],
   "source": [
    "# Parameters and Arguments:\n",
    "import math\n",
    "\n",
    "\n",
    "def print_twice(bruce):\n",
    "    print(bruce)\n",
    "    print(bruce)\n",
    "\n",
    "print_twice('Spam')\n",
    "print_twice(1999)\n",
    "print_twice(math.pi)\n",
    "\n",
    "print_twice('Hello ' * 4)\n",
    "print_twice(math.cos(math.pi))\n"
   ]
  },
  {
   "cell_type": "code",
   "execution_count": null,
   "metadata": {},
   "outputs": [],
   "source": [
    "# Excercise 6:\n",
    "\n",
    "def compute_pay(hours, rate):\n",
    "    pay = int(hours) * float(rate)\n",
    "    print(f'Pay: {pay}')\n",
    "\n",
    "hours = input('Enter Hours: ')\n",
    "rate = input('Enter Rate: ')\n",
    "compute_pay(hours, rate)\n"
   ]
  },
  {
   "cell_type": "code",
   "execution_count": null,
   "metadata": {},
   "outputs": [],
   "source": [
    "# Excercise 7:\n",
    "\n",
    "def compute_grade(score):\n",
    "    try:\n",
    "        score = float(score)\n",
    "    except:\n",
    "        raise TypeError(f'\"{score}\" is not a valid score')\n",
    "\n",
    "    if(score > 1.0 or score < 0):\n",
    "        raise ValueError('Bad Score')\n",
    "    else:\n",
    "        print('Score     Grade')\n",
    "        if score >= 0.9:\n",
    "            print(f'{score}         A')\n",
    "        elif score >= 0.8:\n",
    "            print(f'{score}         B')\n",
    "        elif score >= 0.7:    \n",
    "            print(f'{score}         C')\n",
    "        elif score >= 6:    \n",
    "            print(f'{score}         D')\n",
    "        else:    \n",
    "            print(f'{score}         F')\n",
    "\n",
    "score = input('Enter Score: ')\n",
    "compute_grade(score)"
   ]
  },
  {
   "cell_type": "code",
   "execution_count": 16,
   "metadata": {},
   "outputs": [
    {
     "data": {
      "text/plain": [
       "False"
      ]
     },
     "execution_count": 16,
     "metadata": {},
     "output_type": "execute_result"
    }
   ],
   "source": [
    "\n",
    "\n",
    "x = 0\n",
    "\n",
    "type(x) == bool"
   ]
  }
 ],
 "metadata": {
  "kernelspec": {
   "display_name": "Python 3",
   "language": "python",
   "name": "python3"
  },
  "language_info": {
   "codemirror_mode": {
    "name": "ipython",
    "version": 3
   },
   "file_extension": ".py",
   "mimetype": "text/x-python",
   "name": "python",
   "nbconvert_exporter": "python",
   "pygments_lexer": "ipython3",
   "version": "3.12.3"
  }
 },
 "nbformat": 4,
 "nbformat_minor": 2
}
