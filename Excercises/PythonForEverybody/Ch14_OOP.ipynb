{
 "cells": [
  {
   "cell_type": "code",
   "execution_count": null,
   "metadata": {},
   "outputs": [
    {
     "data": {
      "text/plain": [
       "['__add__',\n",
       " '__class__',\n",
       " '__class_getitem__',\n",
       " '__contains__',\n",
       " '__delattr__',\n",
       " '__delitem__',\n",
       " '__dir__',\n",
       " '__doc__',\n",
       " '__eq__',\n",
       " '__format__',\n",
       " '__ge__',\n",
       " '__getattribute__',\n",
       " '__getitem__',\n",
       " '__getstate__',\n",
       " '__gt__',\n",
       " '__hash__',\n",
       " '__iadd__',\n",
       " '__imul__',\n",
       " '__init__',\n",
       " '__init_subclass__',\n",
       " '__iter__',\n",
       " '__le__',\n",
       " '__len__',\n",
       " '__lt__',\n",
       " '__mul__',\n",
       " '__ne__',\n",
       " '__new__',\n",
       " '__reduce__',\n",
       " '__reduce_ex__',\n",
       " '__repr__',\n",
       " '__reversed__',\n",
       " '__rmul__',\n",
       " '__setattr__',\n",
       " '__setitem__',\n",
       " '__sizeof__',\n",
       " '__str__',\n",
       " '__subclasshook__',\n",
       " 'append',\n",
       " 'clear',\n",
       " 'copy',\n",
       " 'count',\n",
       " 'extend',\n",
       " 'index',\n",
       " 'insert',\n",
       " 'pop',\n",
       " 'remove',\n",
       " 'reverse',\n",
       " 'sort']"
      ]
     },
     "execution_count": 3,
     "metadata": {},
     "output_type": "execute_result"
    }
   ],
   "source": [
    "# Working with Objects:\n",
    "\n",
    "stuff = list()\n",
    "\n",
    "dir(stuff)\n"
   ]
  },
  {
   "cell_type": "code",
   "execution_count": null,
   "metadata": {},
   "outputs": [],
   "source": []
  },
  {
   "cell_type": "code",
   "execution_count": 27,
   "metadata": {},
   "outputs": [
    {
     "name": "stdout",
     "output_type": "stream",
     "text": [
      "So far 1\n",
      "So far 2\n",
      "So far 3\n",
      "So far 1\n",
      "So far 2\n"
     ]
    }
   ],
   "source": [
    "# Classes:\n",
    "\n",
    "class PartyAnimal:\n",
    "    def __init__(self):         # Initail setup of the object.\n",
    "        self.x = 0\n",
    "    \n",
    "    def party(self):\n",
    "        self.x += 1\n",
    "        print(f'So far {self.x}')\n",
    "    \n",
    "\n",
    "an = PartyAnimal()\n",
    "an.party()\n",
    "an.party()\n",
    "an.party()\n",
    "\n",
    "an2 = PartyAnimal()\n",
    "an2.party()\n",
    "\n",
    "\n",
    "PartyAnimal.party(an2)\n",
    "\n",
    "\n"
   ]
  },
  {
   "cell_type": "code",
   "execution_count": 32,
   "metadata": {},
   "outputs": [
    {
     "name": "stdout",
     "output_type": "stream",
     "text": [
      "Type <class '__main__.PartyAnimal'>\n",
      "Dir ['__class__', '__delattr__', '__dict__', '__dir__', '__doc__', '__eq__', '__format__', '__ge__', '__getattribute__', '__getstate__', '__gt__', '__hash__', '__init__', '__init_subclass__', '__le__', '__lt__', '__module__', '__ne__', '__new__', '__reduce__', '__reduce_ex__', '__repr__', '__setattr__', '__sizeof__', '__str__', '__subclasshook__', '__weakref__', 'party', 'x']\n",
      "Type <class 'int'>\n",
      "Type <class 'method'>\n"
     ]
    }
   ],
   "source": [
    "# Classes as Types:\n",
    "\n",
    "\n",
    "class PartyAnimal:\n",
    "    def __init__(self):\n",
    "        self.x = 0\n",
    "\n",
    "    def party(self):\n",
    "        self.x += 1\n",
    "        print(f'So far {self.x}')\n",
    "\n",
    "an = PartyAnimal()\n",
    "\n",
    "print(f'Type {type(an)}')\n",
    "print(f'Dir {dir(an)}')\n",
    "print(f'Type {type(an.x)}')\n",
    "print(f'Type {type(an.party)}')\n",
    "\n"
   ]
  },
  {
   "cell_type": "code",
   "execution_count": null,
   "metadata": {},
   "outputs": [
    {
     "name": "stdout",
     "output_type": "stream",
     "text": [
      "So far 1\n",
      "So far 2\n",
      "I'm Destructed 2\n",
      "an contains Something else...\n"
     ]
    }
   ],
   "source": [
    "# Object lifecycle (Construction - Destruction):\n",
    "\n",
    "\n",
    "class PartyAnimal:\n",
    "    def __init__(self):             # Invoked when object is constructed.\n",
    "        self.x = 0\n",
    "\n",
    "    def party(self):\n",
    "        self.x += 1\n",
    "        print(f'So far {self.x}')\n",
    "    \n",
    "    def __del__(self):              # Invoked when object is destructed.\n",
    "        print(f'I\\'m Destructed {self.x}')\n",
    "\n",
    "an = PartyAnimal()\n",
    "an.party()\n",
    "an.party()\n",
    "\n",
    "an = 'Something else...'\n",
    "print(f'an contains {an}')\n"
   ]
  },
  {
   "cell_type": "code",
   "execution_count": 55,
   "metadata": {},
   "outputs": [
    {
     "name": "stdout",
     "output_type": "stream",
     "text": [
      "Sally party constructed.\n",
      "Sally party counts 1\n",
      "Sally party counts 2\n",
      "Jim party constructed.\n",
      "Jim party counts 1\n"
     ]
    }
   ],
   "source": [
    "# Multiple Instances:\n",
    "\n",
    "class PartyAnimal:\n",
    "    def __init__(self, nam: str):\n",
    "        self.x = 0\n",
    "        self.name = nam\n",
    "        print(f'{self.name} party constructed.')\n",
    "\n",
    "    def party(self):\n",
    "        self.x += 1\n",
    "        print(f'{self.name} party counts {self.x}')\n",
    "\n",
    "\n",
    "s = PartyAnimal('Sally')\n",
    "s.party()\n",
    "s.party()\n",
    "\n",
    "j = PartyAnimal('Jim')\n",
    "j.party()\n"
   ]
  },
  {
   "cell_type": "code",
   "execution_count": 11,
   "metadata": {},
   "outputs": [
    {
     "name": "stdout",
     "output_type": "stream",
     "text": [
      "Sally Constructed\n",
      "Sally party contains 1\n",
      "Jim Constructed\n",
      "Jim party contains 1\n",
      "Jim party contains 2\n",
      "Jim party contains 3\n",
      "Jim party contains 4\n",
      "Jim points 6\n",
      "Jim party contains 5\n",
      "Jim points 12\n",
      "Jim party contains 6\n",
      "Jim party contains 7\n",
      "Jim points 18\n"
     ]
    }
   ],
   "source": [
    "# Inheritance:\n",
    "\n",
    "from party import PartyAnimal\n",
    "\n",
    "\n",
    "class CricketFan(PartyAnimal):\n",
    "\n",
    "    def __init__(self, nam):\n",
    "        super().__init__(nam)\n",
    "        self.points = 0\n",
    "\n",
    "    def six(self):\n",
    "        self.points += 6\n",
    "        self.party()\n",
    "        print(f'{self.name} points {self.points}')\n",
    "\n",
    "\n",
    "s = PartyAnimal('Sally')\n",
    "s.party()\n",
    "\n",
    "j = CricketFan('Jim')\n",
    "j.party()\n",
    "j.party()\n",
    "j.party()\n",
    "j.six()\n",
    "j.six()\n",
    "j.party()\n",
    "j.six()\n",
    "\n"
   ]
  }
 ],
 "metadata": {
  "kernelspec": {
   "display_name": "Python 3",
   "language": "python",
   "name": "python3"
  },
  "language_info": {
   "codemirror_mode": {
    "name": "ipython",
    "version": 3
   },
   "file_extension": ".py",
   "mimetype": "text/x-python",
   "name": "python",
   "nbconvert_exporter": "python",
   "pygments_lexer": "ipython3",
   "version": "3.12.3"
  }
 },
 "nbformat": 4,
 "nbformat_minor": 2
}
