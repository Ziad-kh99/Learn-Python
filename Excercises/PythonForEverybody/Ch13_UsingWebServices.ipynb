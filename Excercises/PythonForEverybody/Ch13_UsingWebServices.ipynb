{
 "cells": [
  {
   "cell_type": "code",
   "execution_count": 6,
   "metadata": {},
   "outputs": [
    {
     "name": "stdout",
     "output_type": "stream",
     "text": [
      "User count: 2\n",
      "Name: Ziad\n",
      "Id: 001\n",
      "x-Attribute: 2\n",
      "Name: Mohab\n",
      "Id: 009\n",
      "x-Attribute: 7\n"
     ]
    }
   ],
   "source": [
    "# eXtensible Markup Language (XML):\n",
    "# Parsing XML:\n",
    "\n",
    "import xml.etree.ElementTree as ET \n",
    "\n",
    "data = '''\n",
    "<person>\n",
    "    <name>Ziad</name>\n",
    "    <phone type='voda'>\n",
    "        +201011414847\n",
    "    </phone>\n",
    "    <email hide='yes' />\n",
    "</person>\n",
    "'''\n",
    "\n",
    "tree = ET.fromstring(data)      # fromstring() -> convert string to tree of XML elements.\n",
    "\n",
    "# print(f'Name: {tree.find('name').text}')\n",
    "# print(f'Attr: {tree.find('email').get('hide')}')\n",
    "\n",
    "\n",
    "# Looping Through Nodes:\n",
    "\n",
    "input = '''\n",
    "<stuff>\n",
    "    <users>\n",
    "        <user x=\"2\">\n",
    "            <id>001</id>\n",
    "            <name>Ziad</name>\n",
    "        </user>\n",
    "        <user x=\"7\">\n",
    "            <id>009</id>\n",
    "            <name>Mohab</name>\n",
    "        </user>\n",
    "    </users>\n",
    "</stuff>\n",
    "'''\n",
    "\n",
    "stuff = ET.fromstring(input)\n",
    "user_lst = stuff.findall('users/user')\n",
    "print(f'User count: {len(user_lst)}')\n",
    "\n",
    "\n",
    "for user in user_lst:\n",
    "    print(f'Name: {user.find('name').text}')\n",
    "    print(f'Id: {user.find('id').text}')\n",
    "    print(f'x-Attribute: {user.get('x')}')\n",
    "\n",
    "\n",
    "\n"
   ]
  },
  {
   "cell_type": "code",
   "execution_count": 21,
   "metadata": {},
   "outputs": [
    {
     "name": "stdout",
     "output_type": "stream",
     "text": [
      "User count: 2\n",
      "Name: Ziad\n",
      "Id: 001\n",
      "x-Att: 2\n",
      "Name: Mohab\n",
      "Id: 002\n",
      "x-Att: 7\n"
     ]
    }
   ],
   "source": [
    "# JavaScript Object Notation (JSON):\n",
    "# Pasing JSON:\n",
    "\n",
    "import json \n",
    "\n",
    "\n",
    "data = '''\n",
    "[\n",
    "    {\n",
    "        \"id\": \"001\",\n",
    "        \"x\": \"2\",\n",
    "        \"name\": \"Ziad\"\n",
    "    },\n",
    "    {\n",
    "        \"id\": \"002\",\n",
    "        \"x\": \"7\",\n",
    "        \"name\": \"Mohab\"\n",
    "    }\n",
    "]'''\n",
    "\n",
    "info = json.loads(data)\n",
    "\n",
    "\n",
    "print(f'User count: {len(info)}')\n",
    "\n",
    "for user in info:\n",
    "    print(f'Name: {user['name']}')\n",
    "    print(f'Id: {user['id']}')\n",
    "    print(f'x-Att: {user['x']}')\n",
    "\n",
    "\n"
   ]
  }
 ],
 "metadata": {
  "kernelspec": {
   "display_name": "Python 3",
   "language": "python",
   "name": "python3"
  },
  "language_info": {
   "codemirror_mode": {
    "name": "ipython",
    "version": 3
   },
   "file_extension": ".py",
   "mimetype": "text/x-python",
   "name": "python",
   "nbconvert_exporter": "python",
   "pygments_lexer": "ipython3",
   "version": "3.12.3"
  }
 },
 "nbformat": 4,
 "nbformat_minor": 2
}
