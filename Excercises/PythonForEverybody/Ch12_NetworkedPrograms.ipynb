{
 "cells": [
  {
   "cell_type": "code",
   "execution_count": null,
   "metadata": {},
   "outputs": [],
   "source": [
    "# Sockets:\n",
    "# Make a web connection over socket:\n",
    "\n",
    "import socket\n",
    "\n",
    "# Create a Socket:\n",
    "mysocket = socket.socket(socket.AF_INET, socket.SOCK_STREAM)\n",
    "\n",
    "# Connect to the server:\n",
    "mysocket.connect(('data.pr4e.org', 80))\n",
    "\n",
    "# Send a GET request to the server over HTTP/1.0:\n",
    "cmd = 'GET http://data.pr4e.org/romeo.txt HTTP/1.0\\r\\n\\r\\n'.encode()        # .encode() -> Convert 'strings' into 'bytes objects'\n",
    "mysocket.send(cmd)\n",
    "\n",
    "# Receive data in 512-charcter chunks from the socket:\n",
    "while True:\n",
    "    data = mysocket.recv(512)\n",
    "    if len(data) < 1:\n",
    "        break\n",
    "    print(data.decode(), end='')        # .decode() -> Convert 'bytes objects' into 'strings' \n",
    "\n",
    "mysocket.close()\n"
   ]
  },
  {
   "cell_type": "code",
   "execution_count": null,
   "metadata": {},
   "outputs": [],
   "source": [
    "# Retrieving an image over HTTP:\n",
    "\n",
    "import socket\n",
    "import time \n",
    "\n",
    "\n",
    "HOST = 'data.pr4e.org'\n",
    "PORT = 80\n",
    "\n",
    "mysocket = socket.socket(socket.AF_INET, socket.SOCK_STREAM)\n",
    "\n",
    "mysocket.connect((HOST, PORT))\n",
    "\n",
    "mysocket.sendall(b'GET http://data.pr4e.org/cover3.jpg HTTP/1.0\\r\\n\\r\\n')\n",
    "\n",
    "count = 0\n",
    "picture = b''\n",
    "\n",
    "while True:\n",
    "    data = mysocket.recv(5120)\n",
    "    if len(data) < 1: break\n",
    "\n",
    "    time.sleep(0.25)\n",
    "\n",
    "    count += len(data)\n",
    "    print(len(data), count)\n",
    "\n",
    "    picture += data \n",
    "\n",
    "mysocket.close()\n",
    "\n",
    "\n",
    "# Header part:\n",
    "pos = picture.find(b'\\r\\n\\r\\n')\n",
    "print(f'Header length: {pos}')\n",
    "print(f'Header Content:\\n{picture[:pos].decode()}')\n",
    "\n",
    "# Image part (Data):\n",
    "picture = picture[pos+4:]\n",
    "file_handle = open('staff.jpg', 'wb')\n",
    "file_handle.write(picture)\n",
    "file_handle.close()\n"
   ]
  },
  {
   "cell_type": "code",
   "execution_count": 6,
   "metadata": {},
   "outputs": [
    {
     "name": "stdout",
     "output_type": "stream",
     "text": [
      "But soft what light through yonder window breaks\n",
      "It is the east and Juliet is the sun\n",
      "Arise fair sun and kill the envious moon\n",
      "Who is already sick and pale with grief\n"
     ]
    }
   ],
   "source": [
    "# Retrieving web pages using 'urllib' library:\n",
    "\n",
    "import urllib.request \n",
    "\n",
    "file_handle = urllib.request.urlopen('http://data.pr4e.org/romeo.txt')\n",
    "\n",
    "for line in file_handle:\n",
    "    print(line.decode().strip())\n",
    "\n"
   ]
  },
  {
   "cell_type": "code",
   "execution_count": 8,
   "metadata": {},
   "outputs": [],
   "source": [
    "# Reading binary files using urllib:\n",
    "\n",
    "import urllib.request \n",
    "\n",
    "\n",
    "img = urllib.request.urlopen('http://data.pr4e.org/cover3.jpg').read()\n",
    "\n",
    "file_handle = open('cover3.jpg', 'wb')\n",
    "file_handle.write(img)\n",
    "file_handle.close()\n",
    "\n"
   ]
  },
  {
   "cell_type": "code",
   "execution_count": 7,
   "metadata": {},
   "outputs": [
    {
     "name": "stdout",
     "output_type": "stream",
     "text": [
      "230210 character copied.\n"
     ]
    }
   ],
   "source": [
    "# Reading binary file in chunks using urllib:\n",
    "\n",
    "import urllib \n",
    "\n",
    "\n",
    "img = urllib.request.urlopen('http://data.pr4e.org/cover3.jpg')\n",
    "\n",
    "file_handle = open('cover3.jpg', 'wb')\n",
    "\n",
    "size = 0\n",
    "\n",
    "while True:\n",
    "    data = img.read(100000)\n",
    "\n",
    "    if len(data) < 1: break \n",
    "\n",
    "    size += len(data)\n",
    "\n",
    "    file_handle.write(data)\n",
    "\n",
    "\n",
    "print(f'{size} character copied.')\n",
    "file_handle.close()\n",
    "\n",
    "\n"
   ]
  },
  {
   "cell_type": "code",
   "execution_count": null,
   "metadata": {},
   "outputs": [],
   "source": [
    "# Excercise 1:\n",
    "\n",
    "import socket \n",
    "\n",
    "# URL: http://data.pr4e.org/romeo.txt\n",
    "\n",
    "url = input('URL: ')\n",
    "HOST = url.split('/')[2]\n",
    "PORT = 80\n",
    "# print(f'HOST: {HOST}')\n",
    "\n",
    "my_socket = socket.socket(socket.AF_INET, socket.SOCK_STREAM)\n",
    "\n",
    "try:\n",
    "    my_socket.connect((HOST, PORT))\n",
    "    cmd = f'GET {url} HTTP/1.0\\r\\n\\r\\n'.encode()\n",
    "    my_socket.send(cmd)\n",
    "except:\n",
    "    print('Invalid URL.')\n",
    "\n",
    "\n",
    "\n",
    "while True:\n",
    "    data = my_socket.recv(512)\n",
    "    if len(data) < 1: break \n",
    "    print(data.decode(), end='')\n",
    "\n",
    "my_socket.close()\n",
    "\n"
   ]
  }
 ],
 "metadata": {
  "kernelspec": {
   "display_name": "Python 3",
   "language": "python",
   "name": "python3"
  },
  "language_info": {
   "codemirror_mode": {
    "name": "ipython",
    "version": 3
   },
   "file_extension": ".py",
   "mimetype": "text/x-python",
   "name": "python",
   "nbconvert_exporter": "python",
   "pygments_lexer": "ipython3",
   "version": "3.12.3"
  }
 },
 "nbformat": 4,
 "nbformat_minor": 2
}
