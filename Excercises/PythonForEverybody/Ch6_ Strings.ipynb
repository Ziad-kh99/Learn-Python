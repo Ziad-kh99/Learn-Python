{
 "cells": [
  {
   "cell_type": "code",
   "execution_count": null,
   "metadata": {},
   "outputs": [
    {
     "name": "stdout",
     "output_type": "stream",
     "text": [
      "b\n",
      "a\n",
      "n\n",
      "a\n",
      "n\n",
      "a\n"
     ]
    }
   ],
   "source": [
    "# Excercise 1:\n",
    "\n",
    "fruit = 'banana'\n",
    "index = len(fruit) - 1\n",
    "\n",
    "while index >= 0:\n",
    "    letter = fruit(index)\n",
    "    print(letter)\n",
    "    index -= 1\n",
    "    \n",
    "    \n",
    "    \n",
    "    "
   ]
  },
  {
   "cell_type": "code",
   "execution_count": 27,
   "metadata": {},
   "outputs": [
    {
     "name": "stdout",
     "output_type": "stream",
     "text": [
      "5\n"
     ]
    }
   ],
   "source": [
    "# Excercise 3:\n",
    "\n",
    "\n",
    "def counter(word: str, letter: str) -> int: \n",
    "    count = 0\n",
    "    for _letter in word:\n",
    "        if letter == _letter:\n",
    "            count += 1\n",
    "    \n",
    "    return count \n",
    "\n",
    "\n",
    "result = counter('I have a banana', 'a')\n",
    "\n",
    "print(result)"
   ]
  },
  {
   "cell_type": "code",
   "execution_count": 91,
   "metadata": {},
   "outputs": [
    {
     "data": {
      "text/plain": [
       "3"
      ]
     },
     "execution_count": 91,
     "metadata": {},
     "output_type": "execute_result"
    }
   ],
   "source": [
    "# Excercise 4:\n",
    "\n",
    "word = 'banana'\n",
    "\n",
    "word.count('a')\n"
   ]
  },
  {
   "cell_type": "code",
   "execution_count": 92,
   "metadata": {},
   "outputs": [
    {
     "data": {
      "text/plain": [
       "'uct.ac.za'"
      ]
     },
     "execution_count": 92,
     "metadata": {},
     "output_type": "execute_result"
    }
   ],
   "source": [
    "data = 'From stephen.marquard@uct.ac.za Sat Jan 5 09:14:16 2008'\n",
    "\n",
    "start_index = str.find(data, '@') + 1\n",
    "end_index = str.find(data, ' ', start_index)\n",
    "\n",
    "host = data[start_index:end_index]\n",
    "\n",
    "host"
   ]
  },
  {
   "cell_type": "code",
   "execution_count": 96,
   "metadata": {},
   "outputs": [
    {
     "data": {
      "text/plain": [
       "float"
      ]
     },
     "execution_count": 96,
     "metadata": {},
     "output_type": "execute_result"
    }
   ],
   "source": [
    "# Excercise 5:\n",
    "\n",
    "str = 'X-DSPAM-Confidence: 0.8475'\n",
    "\n",
    "start_index = str.find(':') + 1\n",
    "num = str[start_index:]\n",
    "num = float(num)\n",
    "\n",
    "type(num)"
   ]
  },
  {
   "cell_type": "code",
   "execution_count": null,
   "metadata": {},
   "outputs": [],
   "source": [
    "# Excercise 6:\n",
    "\n"
   ]
  }
 ],
 "metadata": {
  "kernelspec": {
   "display_name": "Python 3",
   "language": "python",
   "name": "python3"
  },
  "language_info": {
   "codemirror_mode": {
    "name": "ipython",
    "version": 3
   },
   "file_extension": ".py",
   "mimetype": "text/x-python",
   "name": "python",
   "nbconvert_exporter": "python",
   "pygments_lexer": "ipython3",
   "version": "3.12.3"
  }
 },
 "nbformat": 4,
 "nbformat_minor": 2
}
