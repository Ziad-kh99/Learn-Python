{
 "cells": [
  {
   "cell_type": "code",
   "execution_count": null,
   "metadata": {},
   "outputs": [
    {
     "name": "stdout",
     "output_type": "stream",
     "text": [
      "<_io.TextIOWrapper name='mbox.txt' mode='r' encoding='UTF-8'>\n"
     ]
    }
   ],
   "source": [
    "# Open file:\n",
    "\n",
    "\n",
    "file_handle = open('mbox.txt')\n",
    "print(file_handle)  # Handel is not the content of the file itslef."
   ]
  },
  {
   "cell_type": "code",
   "execution_count": 31,
   "metadata": {},
   "outputs": [
    {
     "name": "stdout",
     "output_type": "stream",
     "text": [
      "94626\n",
      "From stephen.marquard@\n"
     ]
    }
   ],
   "source": [
    "# Read file:\n",
    "\n",
    "file_handle = open('mbox-short.txt')\n",
    "count = 0\n",
    "\n",
    "# for line in file_handle:\n",
    "#     count += 1\n",
    "\n",
    "# print(f'Line count: {count}')\n",
    "\n",
    "inp = file_handle.read()\n",
    "print(len(inp))\n",
    "print(inp[:22])\n",
    "\n"
   ]
  },
  {
   "cell_type": "code",
   "execution_count": null,
   "metadata": {},
   "outputs": [
    {
     "name": "stdout",
     "output_type": "stream",
     "text": [
      "From stephen.marquard@uct.ac.za Sat Jan  5 09:14:16 2008\n",
      "X-Authentication-Warning: nakamura.uits.iupui.edu: apache set sender to stephen.marquard@uct.ac.za using -f\n",
      "From: stephen.marquard@uct.ac.za\n",
      "Author: stephen.marquard@uct.ac.za\n",
      "From david.horwitz@uct.ac.za Fri Jan  4 07:02:32 2008\n",
      "X-Authentication-Warning: nakamura.uits.iupui.edu: apache set sender to david.horwitz@uct.ac.za using -f\n",
      "From: david.horwitz@uct.ac.za\n",
      "Author: david.horwitz@uct.ac.za\n",
      "r39753 | david.horwitz@uct.ac.za | 2008-01-04 13:05:51 +0200 (Fri, 04 Jan 2008) | 1 line\n",
      "From david.horwitz@uct.ac.za Fri Jan  4 06:08:27 2008\n",
      "X-Authentication-Warning: nakamura.uits.iupui.edu: apache set sender to david.horwitz@uct.ac.za using -f\n",
      "From: david.horwitz@uct.ac.za\n",
      "Author: david.horwitz@uct.ac.za\n",
      "From david.horwitz@uct.ac.za Fri Jan  4 04:49:08 2008\n",
      "X-Authentication-Warning: nakamura.uits.iupui.edu: apache set sender to david.horwitz@uct.ac.za using -f\n",
      "From: david.horwitz@uct.ac.za\n",
      "Author: david.horwitz@uct.ac.za\n",
      "From david.horwitz@uct.ac.za Fri Jan  4 04:33:44 2008\n",
      "X-Authentication-Warning: nakamura.uits.iupui.edu: apache set sender to david.horwitz@uct.ac.za using -f\n",
      "From: david.horwitz@uct.ac.za\n",
      "Author: david.horwitz@uct.ac.za\n",
      "From stephen.marquard@uct.ac.za Fri Jan  4 04:07:34 2008\n",
      "X-Authentication-Warning: nakamura.uits.iupui.edu: apache set sender to stephen.marquard@uct.ac.za using -f\n",
      "From: stephen.marquard@uct.ac.za\n",
      "Author: stephen.marquard@uct.ac.za\n"
     ]
    }
   ],
   "source": [
    "# Searching through a file:\n",
    "\n",
    "file_handle = open('mbox-short.txt')\n",
    "\n",
    "# for line in file_handle:\n",
    "#     if line.startswith('From:'):\n",
    "#         print(line.rstrip())\n",
    "\n",
    "\n",
    "# for line in file_handle:\n",
    "#     if not line.startswith('From:'):\n",
    "#         continue \n",
    "#     print(line.rstrip())\n",
    "\n",
    "\n",
    "for line in file_handle:\n",
    "    if line.find('@uct.ac.za') == -1: continue\n",
    "    \n",
    "    print(line.rstrip())"
   ]
  },
  {
   "cell_type": "code",
   "execution_count": null,
   "metadata": {},
   "outputs": [],
   "source": [
    "# Open file in Pythonic way with try and except:\n",
    "\n",
    "file_name = input('Enter file name: ')\n",
    "\n",
    "try:\n",
    "    file_handle = open(file_name.strip())\n",
    "    count = 0\n",
    "\n",
    "    for line in file_handle:\n",
    "        count += 1 \n",
    "    \n",
    "    print(f'file \\'{file_name.strip()}\\' has {count} lines.')\n",
    "except:\n",
    "    # raise FileExistsError(f'No such file with name \\'{file_name}\\'')\n",
    "    print('File cannot be opened:', file_name)\n",
    "    exit()      # this function terminate the program.\n",
    "\n"
   ]
  },
  {
   "cell_type": "code",
   "execution_count": null,
   "metadata": {},
   "outputs": [
    {
     "name": "stdout",
     "output_type": "stream",
     "text": [
      "<_io.TextIOWrapper name='output.txt' mode='w' encoding='UTF-8'>\n"
     ]
    },
    {
     "data": {
      "text/plain": [
       "28"
      ]
     },
     "execution_count": 41,
     "metadata": {},
     "output_type": "execute_result"
    }
   ],
   "source": [
    "# Writing a file:\n",
    "\n",
    "file_output = open('output.txt', 'w')\n",
    "print(file_output)\n",
    "text = 'This is our first letter...\\n'\n",
    "file_output.write(text)\n",
    "file_output.write(text)\n",
    "\n",
    "file_output.close()     # DON'T FORGET TO CLOSE THE FILE."
   ]
  },
  {
   "cell_type": "code",
   "execution_count": 44,
   "metadata": {},
   "outputs": [
    {
     "name": "stdout",
     "output_type": "stream",
     "text": [
      "FROM ZQIAN@UMICH.EDU FRI JAN  4 16:10:39 2008\n",
      "RETURN-PATH: <POSTMASTER@COLLAB.SAKAIPROJECT.ORG>\n",
      "RECEIVED: FROM MURDER (MAIL.UMICH.EDU [141.211.14.25])\n",
      "\t BY FRANKENSTEIN.MAIL.UMICH.EDU (CYRUS V2.3.8) WITH LMTPA;\n",
      "\t FRI, 04 JAN 2008 16:10:39 -0500\n",
      "X-SIEVE: CMU SIEVE 2.3\n",
      "RECEIVED: FROM MURDER ([UNIX SOCKET])\n",
      "\t BY MAIL.UMICH.EDU (CYRUS V2.2.12) WITH LMTPA;\n",
      "\t FRI, 04 JAN 2008 16:10:39 -0500\n"
     ]
    }
   ],
   "source": [
    "# Excercise 1:\n",
    "\n",
    "try:\n",
    "    file_handle = open('new-mbox.txt')\n",
    "    for line in file_handle:\n",
    "        print(line.upper().rstrip())\n",
    "except:\n",
    "    print('Cannot open/read file.')\n"
   ]
  },
  {
   "cell_type": "code",
   "execution_count": null,
   "metadata": {},
   "outputs": [],
   "source": [
    "# Excercise 2:\n",
    "\n",
    "\n",
    "file_name = input('Enter file name: ')\n",
    "count = 0\n",
    "total = 0\n",
    "try:\n",
    "    file_handle = open(file_name)\n",
    "\n",
    "    for line in file_handle:\n",
    "        if line.startswith('X-DSPAM-Confidence:'):\n",
    "            total += float(line.split(': ')[1])\n",
    "            count += 1\n",
    "    \n",
    "    print(f'Avarage: {total / count}')\n",
    "except:\n",
    "    print(f'Cannot opent file: {file_name}')\n",
    "\n",
    "\n",
    "\n",
    "\n"
   ]
  },
  {
   "cell_type": "code",
   "execution_count": null,
   "metadata": {},
   "outputs": [],
   "source": [
    "# Excercise 3:\n",
    "\n",
    "\n",
    "\n",
    "file_name = input('Enter file name: ')\n",
    "count = 0\n",
    "\n",
    "if file_name == 'na na boo boo':\n",
    "    print('NA NA BOO BOO TO YOU - You have been punk\\'d!')\n",
    "    exit()\n",
    "    \n",
    "try:\n",
    "    file_handle = open(file_name)\n",
    "\n",
    "    for line in file_handle:\n",
    "        if line.startswith('Subject:'):\n",
    "            count += 1\n",
    "\n",
    "    print(f'There were {count} subject lines in {file_name}')\n",
    "\n",
    "except:\n",
    "    print(f'File cannot be opened: {file_name}')\n",
    "\n"
   ]
  }
 ],
 "metadata": {
  "kernelspec": {
   "display_name": "Python 3",
   "language": "python",
   "name": "python3"
  },
  "language_info": {
   "codemirror_mode": {
    "name": "ipython",
    "version": 3
   },
   "file_extension": ".py",
   "mimetype": "text/x-python",
   "name": "python",
   "nbconvert_exporter": "python",
   "pygments_lexer": "ipython3",
   "version": "3.12.3"
  }
 },
 "nbformat": 4,
 "nbformat_minor": 2
}
