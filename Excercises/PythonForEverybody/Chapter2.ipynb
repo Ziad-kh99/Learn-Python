{
 "cells": [
  {
   "cell_type": "code",
   "execution_count": null,
   "metadata": {},
   "outputs": [],
   "source": [
    "# Exercise 2:\n",
    "\n",
    "\n",
    "name = input('What\\'s your name sir? ')\n",
    "print(f'Welcome Mr.{name}.')"
   ]
  },
  {
   "cell_type": "code",
   "execution_count": null,
   "metadata": {},
   "outputs": [],
   "source": [
    "# Exercise 3:\n",
    "\n",
    "hours = input('Enter Hours: ')\n",
    "rate_per_hour = input('Enter Rate: ')\n",
    "pay = int(hours) * float(rate_per_hour)\n",
    "print(f'Pay: {pay}')"
   ]
  },
  {
   "cell_type": "code",
   "execution_count": 4,
   "metadata": {},
   "outputs": [
    {
     "data": {
      "text/plain": [
       "int"
      ]
     },
     "execution_count": 4,
     "metadata": {},
     "output_type": "execute_result"
    }
   ],
   "source": [
    "# Exercise 4:\n",
    "\n",
    "width = 17\n",
    "height = 12.0\n",
    "\n",
    "type(width // 2)    # int\n",
    "type(width / 2.0)   # float\n",
    "type(height / 3)    # float\n",
    "type(1 + 2 * 5)     # int\n"
   ]
  },
  {
   "cell_type": "code",
   "execution_count": null,
   "metadata": {},
   "outputs": [],
   "source": [
    "# Exercise 5:\n",
    "\n",
    "celsius = input('Enter temp in celsius: ')\n",
    "fahrenheit = (int(celsius) * 1.8) + 32\n",
    "print(f'Equelivent {celsius} C in Fahrenheit is {fahrenheit} F')\n"
   ]
  }
 ],
 "metadata": {
  "kernelspec": {
   "display_name": "Python 3",
   "language": "python",
   "name": "python3"
  },
  "language_info": {
   "codemirror_mode": {
    "name": "ipython",
    "version": 3
   },
   "file_extension": ".py",
   "mimetype": "text/x-python",
   "name": "python",
   "nbconvert_exporter": "python",
   "pygments_lexer": "ipython3",
   "version": "3.12.3"
  }
 },
 "nbformat": 4,
 "nbformat_minor": 2
}
