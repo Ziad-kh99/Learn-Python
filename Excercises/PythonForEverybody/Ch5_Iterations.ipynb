{
 "cells": [
  {
   "cell_type": "code",
   "execution_count": 1,
   "metadata": {},
   "outputs": [
    {
     "name": "stdout",
     "output_type": "stream",
     "text": [
      "5\n",
      "4\n",
      "3\n",
      "2\n",
      "1\n",
      "Blastoff!\n"
     ]
    }
   ],
   "source": [
    "n = 5\n",
    "\n",
    "while n > 0:\n",
    "    print(n)\n",
    "    n = n - 1\n",
    "print('Blastoff!')\n",
    "\n",
    "\n",
    "\n",
    "while True:\n",
    "    line = input('> ')\n",
    "    \n",
    "    if line[0] == '#':\n",
    "        continue\n",
    "    elif line == 'done':\n",
    "        break\n",
    "\n",
    "    print(line)\n",
    "\n",
    "\n",
    "print('Done!')\n",
    "\n",
    "\n"
   ]
  },
  {
   "cell_type": "code",
   "execution_count": 6,
   "metadata": {},
   "outputs": [
    {
     "name": "stdout",
     "output_type": "stream",
     "text": [
      "Happy new year Joseph\n",
      "Happy new year Glenn\n",
      "Happy new year Sally\n",
      "Done!\n",
      "37\n",
      "12\n"
     ]
    }
   ],
   "source": [
    "# for loop:\n",
    "\n",
    "friends = ['Joseph', 'Glenn', 'Sally']\n",
    "\n",
    "for friend in friends:\n",
    "    print(f'Happy new year {friend}')\n",
    "\n",
    "print('Done!')\n",
    "\n",
    "\n",
    "count = 0\n",
    "\n",
    "for number in [3, 2, 4, 7, 1, 5, 9, 6]:\n",
    "    count += number \n",
    "\n",
    "print(count)\n",
    "\n",
    "\n",
    "largest_num = 0\n",
    "\n",
    "for num in [9, 3, 5, 7, 12, 6]:\n",
    "    if num > largest_num:\n",
    "        largest_num = num \n",
    "    \n",
    "print(largest_num)"
   ]
  },
  {
   "cell_type": "code",
   "execution_count": 7,
   "metadata": {},
   "outputs": [
    {
     "ename": "ValueError",
     "evalue": "invalid literal for int() with base 10: 'dfa'",
     "output_type": "error",
     "traceback": [
      "\u001b[0;31m---------------------------------------------------------------------------\u001b[0m",
      "\u001b[0;31mValueError\u001b[0m                                Traceback (most recent call last)",
      "Cell \u001b[0;32mIn[7], line 1\u001b[0m\n\u001b[0;32m----> 1\u001b[0m \u001b[38;5;28;43mint\u001b[39;49m\u001b[43m(\u001b[49m\u001b[38;5;124;43m'\u001b[39;49m\u001b[38;5;124;43mdfa\u001b[39;49m\u001b[38;5;124;43m'\u001b[39;49m\u001b[43m)\u001b[49m\n",
      "\u001b[0;31mValueError\u001b[0m: invalid literal for int() with base 10: 'dfa'"
     ]
    }
   ],
   "source": [
    "# Excercise 1:\n",
    "\n",
    "u_input = None\n",
    "total = 0\n",
    "count = 0\n",
    "while True:\n",
    "    try:\n",
    "        u_input = input('Enter a number: ')\n",
    "        if u_input == 'done':\n",
    "            break\n",
    "        vu_input = int(u_input)\n",
    "        total += vu_input\n",
    "        count += 1 \n",
    "    except:\n",
    "        ValueError('Please enter a valid number.')\n",
    "    \n",
    "    \n",
    "\n",
    "print(f'Total: {total}')\n",
    "print(f'Count: {count}')\n",
    "print(f'Avarage: {total / count}')\n"
   ]
  },
  {
   "cell_type": "code",
   "execution_count": null,
   "metadata": {},
   "outputs": [],
   "source": []
  }
 ],
 "metadata": {
  "kernelspec": {
   "display_name": "Python 3",
   "language": "python",
   "name": "python3"
  },
  "language_info": {
   "codemirror_mode": {
    "name": "ipython",
    "version": 3
   },
   "file_extension": ".py",
   "mimetype": "text/x-python",
   "name": "python",
   "nbconvert_exporter": "python",
   "pygments_lexer": "ipython3",
   "version": "3.12.3"
  }
 },
 "nbformat": 4,
 "nbformat_minor": 2
}
