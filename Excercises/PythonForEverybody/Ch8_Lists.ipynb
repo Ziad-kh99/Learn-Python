{
 "cells": [
  {
   "cell_type": "code",
   "execution_count": 24,
   "metadata": {},
   "outputs": [
    {
     "data": {
      "text/plain": [
       "True"
      ]
     },
     "execution_count": 24,
     "metadata": {},
     "output_type": "execute_result"
    }
   ],
   "source": [
    "# List is a mutable, sorted sequence.\n",
    "\n",
    "numbers = [10, 20, 30, 40]\n",
    "students = ['Samy', 'Hisham', 'Amr', 'Walid']\n",
    "\n",
    "randome_list = [129, 'Apple', True, 1.7, ['Car', 10, False]]\n",
    "\n",
    "empty_list = []\n",
    "\n",
    "randome_list[1] = 'Banana'      # list is Mutable.\n",
    "randome_list[2] = [False, True]\n",
    "\n",
    "randome_list[1+1]\n",
    "randome_list[4-1]\n",
    "len(randome_list)\n",
    "randome_list[-5]\n",
    "\n",
    "\n",
    "# 'in' operator checks for element exestance:\n",
    "129 in randome_list\n",
    "False in randome_list\n",
    "[False, True] in randome_list\n",
    "\n",
    "\n",
    "    \n",
    "\n"
   ]
  },
  {
   "cell_type": "code",
   "execution_count": null,
   "metadata": {},
   "outputs": [
    {
     "name": "stdout",
     "output_type": "stream",
     "text": [
      "Samy\n",
      "Hisham\n",
      "Amr\n",
      "Walid\n"
     ]
    },
    {
     "data": {
      "text/plain": [
       "['Samy - Regular Student',\n",
       " 'Hisham - Regular Student',\n",
       " 'Amr - Regular Student',\n",
       " 'Walid - Regular Student']"
      ]
     },
     "execution_count": 29,
     "metadata": {},
     "output_type": "execute_result"
    }
   ],
   "source": [
    "# Traversing a list:\n",
    "students = ['Samy', 'Hisham', 'Amr', 'Walid']\n",
    "\n",
    "for student in students:\n",
    "    print(student)\n",
    "\n",
    "\n",
    "for i in range(len(students)):\n",
    "    students[i] += ' - Regular Student'\n",
    "\n",
    "\n",
    "\n",
    "\n",
    "students"
   ]
  },
  {
   "cell_type": "code",
   "execution_count": null,
   "metadata": {},
   "outputs": [
    {
     "data": {
      "text/plain": [
       "[1, 2, 3, 4, 5, 6, 1, 2, 3, 4, 5, 6]"
      ]
     },
     "execution_count": 32,
     "metadata": {},
     "output_type": "execute_result"
    }
   ],
   "source": [
    "# List Operation:\n",
    "\n",
    "a = [1,2,3]\n",
    "b = [4,5,6]\n",
    "c = a + b\n",
    "c * 2\n",
    "\n"
   ]
  },
  {
   "cell_type": "code",
   "execution_count": null,
   "metadata": {},
   "outputs": [
    {
     "data": {
      "text/plain": [
       "['b', 'd', 'f']"
      ]
     },
     "execution_count": 37,
     "metadata": {},
     "output_type": "execute_result"
    }
   ],
   "source": [
    "# List Slice [start : stop : step]:\n",
    "\n",
    "t = ['a', 'b', 'c', 'd', 'e', 'f']\n",
    "\n",
    "t[2:]\n",
    "t[:3]\n",
    "t[1::2]\n"
   ]
  },
  {
   "cell_type": "code",
   "execution_count": 65,
   "metadata": {},
   "outputs": [
    {
     "data": {
      "text/plain": [
       "[1, 3]"
      ]
     },
     "execution_count": 65,
     "metadata": {},
     "output_type": "execute_result"
    }
   ],
   "source": [
    "# List Methods:\n",
    "\n",
    "l1 = ['a', 'b', 'c']\n",
    "l2 = ['d', 'e']\n",
    "l1.extend(l2)\n",
    "\n",
    "\n",
    "numbers = [5, 2, 4, 1, 3]\n",
    "\n",
    "numbers.sort()      # return None\n",
    "sorted(numbers)     # return list\n",
    "numbers\n",
    "\n",
    "numbers.pop()       # remove last element\n",
    "numbers.pop(1)      # remove 2nd element\n",
    "\n",
    "\n",
    "numbers.remove(4)\n",
    "\n",
    "\n",
    "\n",
    "numbers = [5, 2, 4, 1, 3]\n",
    "del numbers[0:3]\n",
    "numbers\n"
   ]
  },
  {
   "cell_type": "code",
   "execution_count": null,
   "metadata": {},
   "outputs": [
    {
     "data": {
      "text/plain": [
       "154"
      ]
     },
     "execution_count": 69,
     "metadata": {},
     "output_type": "execute_result"
    }
   ],
   "source": [
    "# Lists and Functions:\n",
    "\n",
    "nums = [3, 41, 12, 9, 74, 15]\n",
    "\n",
    "len(nums)\n",
    "max(nums)\n",
    "min(nums)\n",
    "sum(nums)\n",
    "\n"
   ]
  },
  {
   "cell_type": "code",
   "execution_count": 78,
   "metadata": {},
   "outputs": [
    {
     "data": {
      "text/plain": [
       "'The_brown_fox_jumbed_over_the_black_dog'"
      ]
     },
     "execution_count": 78,
     "metadata": {},
     "output_type": "execute_result"
    }
   ],
   "source": [
    "# Lists and Strings:\n",
    "\n",
    "s = 'Hello'\n",
    "l = list(s)\n",
    "\n",
    "sentence = 'The brown fox jumbed over the black dog'\n",
    "words = sentence.split()\n",
    "\n",
    "new_sentence = '_'.join(words)\n",
    "\n",
    "new_sentence"
   ]
  },
  {
   "cell_type": "code",
   "execution_count": 87,
   "metadata": {},
   "outputs": [
    {
     "name": "stdout",
     "output_type": "stream",
     "text": [
      "Yes: Mon\n"
     ]
    }
   ],
   "source": [
    "# Parsing Lines:\n",
    "\n",
    "week_days = ['Sat', 'Sun', 'Mon', 'Tue', 'Wed', 'Thu', 'Fri']\n",
    "\n",
    "line = 'From stephen.marquard@uct.ac.za Mon Jan 5 09:14:16 2008'\n",
    "\n",
    "words = line.split()\n",
    "\n",
    "for word in words:\n",
    "    for day in week_days:\n",
    "        if word == day:\n",
    "            print(f'Yes: {day}')"
   ]
  },
  {
   "cell_type": "code",
   "execution_count": 110,
   "metadata": {},
   "outputs": [
    {
     "data": {
      "text/plain": [
       "[1, 2, 3]"
      ]
     },
     "execution_count": 110,
     "metadata": {},
     "output_type": "execute_result"
    }
   ],
   "source": [
    "# Objects and Values:\n",
    "\n",
    "# 'is' operator is used to check referenced object in memory.\n",
    "# '==' operator is used to check value equality.\n",
    "\n",
    "a = 'banana'\n",
    "b = 'banana'\n",
    "a is b  # True\n",
    "a == b  # True\n",
    "\n",
    "l1 = [1,2,3]\n",
    "l2 = [1,2,3]\n",
    "l1 is l2    # False\n",
    "l1 == l2    # True\n",
    "\n",
    "l2.append(4)\n",
    "l1\n",
    "\n",
    "\n"
   ]
  },
  {
   "cell_type": "code",
   "execution_count": 105,
   "metadata": {},
   "outputs": [
    {
     "data": {
      "text/plain": [
       "[1, 2, 3, 4, 5]"
      ]
     },
     "execution_count": 105,
     "metadata": {},
     "output_type": "execute_result"
    }
   ],
   "source": [
    "# Aliasing:\n",
    "\n",
    "a = [1,2,3]\n",
    "b = a           # here object is aliased with two names a and b\n",
    "b == a      # True\n",
    "b is a      # True\n",
    "\n",
    "\n",
    "a.append(4)\n",
    "b.append(5)\n",
    "\n",
    "a\n"
   ]
  },
  {
   "cell_type": "code",
   "execution_count": 127,
   "metadata": {},
   "outputs": [
    {
     "data": {
      "text/plain": [
       "[13, 14, 15, 16, 17, 18]"
      ]
     },
     "execution_count": 127,
     "metadata": {},
     "output_type": "execute_result"
    }
   ],
   "source": [
    "# List Arguments:\n",
    "# Lists passed by reference:\n",
    "\n",
    "def del_ahead(_list):\n",
    "    del _list[0]\n",
    "\n",
    "\n",
    "numbers = [12, 13, 14, 15, 16]\n",
    "\n",
    "del_ahead(numbers)      # modifies list\n",
    "\n",
    "\n",
    "numbers1 = numbers.append(17)      # modifies number list and return None to numbers1\n",
    "\n",
    "\n",
    "numbers2 = numbers + [18]    # + operator creates a new list and return it to numbers2\n",
    "\n",
    "numbers2"
   ]
  },
  {
   "cell_type": "code",
   "execution_count": 143,
   "metadata": {},
   "outputs": [
    {
     "data": {
      "text/plain": [
       "[2, 3, 4, 5]"
      ]
     },
     "execution_count": 143,
     "metadata": {},
     "output_type": "execute_result"
    }
   ],
   "source": [
    "# Excercise 1:\n",
    "\n",
    "def chop(_list) -> None: \n",
    "    _list.pop(0)\n",
    "    _list.pop(-1)\n",
    "\n",
    "def middle(_list) -> list:\n",
    "    return _list[1:len(_list)-1]\n",
    "\n",
    "numbers = [1, 2, 3, 4, 5, 6]\n",
    "\n",
    "# chop(numbers)\n",
    "new_numbers = middle(numbers)\n",
    "\n",
    "new_numbers"
   ]
  },
  {
   "cell_type": "code",
   "execution_count": null,
   "metadata": {},
   "outputs": [
    {
     "name": "stdout",
     "output_type": "stream",
     "text": [
      "['Arise', 'But', 'It', 'Juliet', 'Who', 'already', 'and', 'breaks', 'east', 'envious', 'fair', 'grief', 'is', 'kill', 'light', 'moon', 'pale', 'sick', 'soft', 'sun', 'the', 'through', 'what', 'window', 'with', 'yonder']\n"
     ]
    }
   ],
   "source": [
    "# Excercise 4: Find all unique words in a file\n",
    "\n",
    "words = []\n",
    "unique_words = []\n",
    "try:\n",
    "    file_handel = open('romeo.txt')\n",
    "\n",
    "    for line in file_handel:\n",
    "        words.extend(line.split())\n",
    "\n",
    "    for word in words:\n",
    "        if unique_words.__contains__(word): continue\n",
    "        unique_words.append(word)\n",
    "\n",
    "    unique_words.sort()\n",
    "\n",
    "    print(unique_words)\n",
    "\n",
    "except:\n",
    "    print('An unexpected error occurs')\n",
    "\n",
    "\n",
    "\n",
    "\n",
    "\n",
    "    "
   ]
  },
  {
   "cell_type": "code",
   "execution_count": null,
   "metadata": {},
   "outputs": [],
   "source": [
    "# Excercise 5: Minimalist Email Client.\n",
    "\n",
    "file_name = input('Enter file name: ')\n",
    "count = 0\n",
    "\n",
    "try:\n",
    "    file_handel = open(file_name)\n",
    "\n",
    "    for line in file_handel:\n",
    "        if line.startswith('From '):\n",
    "            print(line.split()[1])\n",
    "            count += 1\n",
    "    \n",
    "    print(f'There were {count} lines in the file From as the first word.')\n",
    "\n",
    "except:\n",
    "    print('An unexpected error occurs.')"
   ]
  },
  {
   "cell_type": "code",
   "execution_count": null,
   "metadata": {},
   "outputs": [],
   "source": [
    "# Excercise 6:\n",
    "\n",
    "inp = input('Enter a number: ')\n",
    "numbers = []\n",
    "\n",
    "try:\n",
    "    while inp != 'done':\n",
    "        inp = int(inp)\n",
    "        numbers.append(inp)\n",
    "        inp = input('Enter a number: ')\n",
    "\n",
    "    print(f'Maximum: {max(numbers)}')\n",
    "    print(f'Minimum: {min(numbers)}')\n",
    "\n",
    "except: \n",
    "    print('Invalid value')"
   ]
  }
 ],
 "metadata": {
  "kernelspec": {
   "display_name": "Python 3",
   "language": "python",
   "name": "python3"
  },
  "language_info": {
   "codemirror_mode": {
    "name": "ipython",
    "version": 3
   },
   "file_extension": ".py",
   "mimetype": "text/x-python",
   "name": "python",
   "nbconvert_exporter": "python",
   "pygments_lexer": "ipython3",
   "version": "3.12.3"
  }
 },
 "nbformat": 4,
 "nbformat_minor": 2
}
