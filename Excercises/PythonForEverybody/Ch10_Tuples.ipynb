{
 "cells": [
  {
   "cell_type": "code",
   "execution_count": 16,
   "metadata": {},
   "outputs": [
    {
     "name": "stdout",
     "output_type": "stream",
     "text": [
      "('C', 'o', 'n', 'g', 'r', 'a', 't', 'u', 'l', 'a', 't', 'i', 'o', 'n', 's')\n"
     ]
    },
    {
     "data": {
      "text/plain": [
       "('C', 'o', 'n')"
      ]
     },
     "execution_count": 16,
     "metadata": {},
     "output_type": "execute_result"
    }
   ],
   "source": [
    "# Tuples are ordered immutable sequences:\n",
    "\n",
    "\n",
    "t = (1, 2, 3, 4, 5)\n",
    "x = 1,\n",
    "t2 = tuple()\n",
    "\n",
    "word = 'Congratulations'\n",
    "t3 = tuple(word)\n",
    "print(t3)\n",
    "\n",
    "t3[1]\n",
    "\n",
    "# t3[2] = 'N'     # Type error: tuple is immutable.\n",
    "\n",
    "t3[:3]\n",
    "\n"
   ]
  },
  {
   "cell_type": "code",
   "execution_count": null,
   "metadata": {},
   "outputs": [
    {
     "name": "stdout",
     "output_type": "stream",
     "text": [
      "['yonder', 'window', 'breaks', 'light', 'what', 'soft', 'but', 'in']\n"
     ]
    }
   ],
   "source": [
    "# Sort a list of words:\n",
    "\n",
    "\n",
    "txt = 'but soft what light in yonder window breaks'\n",
    "\n",
    "words = txt.split()\n",
    "t = list()\n",
    "\n",
    "for word in words:\n",
    "    t.append((len(word), word))         # List of Tuples\n",
    "\n",
    "t.sort(reverse = True)\n",
    "rest = list()\n",
    "\n",
    "for (length, word) in t:        # for (each tuple) in list-of-tuples\n",
    "    rest.append(word)\n",
    "\n",
    "\n",
    "print(rest)"
   ]
  },
  {
   "cell_type": "code",
   "execution_count": 28,
   "metadata": {},
   "outputs": [
    {
     "data": {
      "text/plain": [
       "'ziad.dev'"
      ]
     },
     "execution_count": 28,
     "metadata": {},
     "output_type": "execute_result"
    }
   ],
   "source": [
    "# Tuple Assignment:\n",
    "\n",
    "\n",
    "m = ('have', 'fun', 'day')\n",
    "\n",
    "x, y, z = m\n",
    "(x, y, z) = m       # not common!\n",
    "\n",
    "\n",
    "email_add = 'ziad.dev@gmail.com'\n",
    "\n",
    "user_name, domain = email_add.split('@')\n",
    "\n",
    "user_name\n",
    "\n",
    "\n",
    "\n"
   ]
  },
  {
   "cell_type": "code",
   "execution_count": 38,
   "metadata": {},
   "outputs": [
    {
     "name": "stdout",
     "output_type": "stream",
     "text": [
      "dict_items([('b', 1), ('a', 10), ('c', 22)])\n"
     ]
    },
    {
     "data": {
      "text/plain": [
       "[('a', 10), ('b', 1), ('c', 22)]"
      ]
     },
     "execution_count": 38,
     "metadata": {},
     "output_type": "execute_result"
    }
   ],
   "source": [
    "# Dictionary and Tuples:\n",
    "\n",
    "\n",
    "d = {'b': 1, 'a': 10, 'c': 22}\n",
    "\n",
    "x = d.items()\n",
    "\n",
    "type(x)     # dict_items -> list of tuples\n",
    "\n",
    "print(x)    # [(,), (,), (,), ..]\n",
    "\n",
    "l = list(x)\n",
    "l = list(d.items())\n",
    "l.sort()\n",
    "l\n"
   ]
  },
  {
   "cell_type": "code",
   "execution_count": 47,
   "metadata": {},
   "outputs": [
    {
     "name": "stdout",
     "output_type": "stream",
     "text": [
      "a 10\n",
      "b 1\n",
      "c 22\n",
      "('a', 10)\n",
      "('b', 1)\n",
      "('c', 22)\n",
      "a 10\n",
      "b 1\n",
      "c 22\n",
      "[(22, 'c'), (10, 'a'), (1, 'b')]\n"
     ]
    }
   ],
   "source": [
    "# Multiple assignment with dictionaries:\n",
    "\n",
    "\n",
    "d = {'a': 10, 'b': 1, 'c': 22}\n",
    "\n",
    "for key in d:\n",
    "    print(key, d[key])\n",
    "\n",
    "for item in d.items():\n",
    "    print(item)\n",
    "\n",
    "for key, val in d.items():\n",
    "    print(key, val)\n",
    "\n",
    "\n",
    "# order dict by val\n",
    "l = list()\n",
    "\n",
    "for key, val in d.items():\n",
    "    l.append((val, key))        # because sort method sort by first element.\n",
    "\n",
    "l.sort(reverse = True)\n",
    "\n",
    "print(l)\n"
   ]
  },
  {
   "cell_type": "code",
   "execution_count": null,
   "metadata": {},
   "outputs": [
    {
     "name": "stdout",
     "output_type": "stream",
     "text": [
      "ziad khaled => 1999\n",
      "hossam khaled => 1994\n",
      "mohamed khaled => 2010\n"
     ]
    },
    {
     "data": {
      "text/plain": [
       "list"
      ]
     },
     "execution_count": 49,
     "metadata": {},
     "output_type": "execute_result"
    }
   ],
   "source": [
    "# Using tuples as keys(composite-keys) in dictionaries:\n",
    "\n",
    "d = {('ziad', 'khaled'): 1999, ('hossam', 'khaled'): 1994, ('mohamed', 'khaled'): 2010}\n",
    "\n",
    "\n",
    "for firt_name, last_name in d:\n",
    "    print(f'{firt_name} {last_name} => {d[firt_name, last_name]}')\n",
    "\n",
    "\n",
    "t = (2, 5, 4, 1, 3)\n",
    "\n",
    "t2 = sorted(t)\n",
    "\n",
    "type(t2)        # list!!!"
   ]
  },
  {
   "cell_type": "code",
   "execution_count": null,
   "metadata": {},
   "outputs": [
    {
     "data": {
      "text/plain": [
       "121"
      ]
     },
     "execution_count": 5,
     "metadata": {},
     "output_type": "execute_result"
    }
   ],
   "source": [
    "# List Comprehension:\n",
    "\n",
    "\n",
    "list_of_ints_in_string = ['42', '65', '14']\n",
    "list_of_ints = list()       # impty string.\n",
    "\n",
    "for x in list_of_ints_in_string:\n",
    "    list_of_ints.append(int(x))\n",
    "\n",
    "sum(list_of_ints)\n",
    "\n",
    "list_of_ints = [ int(x) for x in list_of_ints_in_string ]\n",
    "\n",
    "sum(list_of_ints)"
   ]
  },
  {
   "cell_type": "code",
   "execution_count": null,
   "metadata": {},
   "outputs": [],
   "source": [
    "# Excercise 1:\n",
    "\n",
    "\n"
   ]
  }
 ],
 "metadata": {
  "kernelspec": {
   "display_name": "Python 3",
   "language": "python",
   "name": "python3"
  },
  "language_info": {
   "codemirror_mode": {
    "name": "ipython",
    "version": 3
   },
   "file_extension": ".py",
   "mimetype": "text/x-python",
   "name": "python",
   "nbconvert_exporter": "python",
   "pygments_lexer": "ipython3",
   "version": "3.12.3"
  }
 },
 "nbformat": 4,
 "nbformat_minor": 2
}
