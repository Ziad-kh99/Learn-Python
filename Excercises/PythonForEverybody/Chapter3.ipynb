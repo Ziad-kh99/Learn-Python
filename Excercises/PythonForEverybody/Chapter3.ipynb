{
 "cells": [
  {
   "cell_type": "code",
   "execution_count": null,
   "metadata": {},
   "outputs": [],
   "source": [
    "# Exercise 1:\n",
    "\n",
    "hours = input('Enter Hours: ')\n",
    "rate = input('Enter Rate: ')\n",
    "\n",
    "try:\n",
    "    pay = int(hours) * float(rate)\n",
    "    print(f'Pay: {pay}')\n",
    "except:\n",
    "    print('Please enter a valid data.')"
   ]
  },
  {
   "cell_type": "code",
   "execution_count": null,
   "metadata": {},
   "outputs": [],
   "source": [
    "# Exercise 2:\n",
    "\n",
    "\n",
    "\n",
    "score = input('Enter score: ')\n",
    "\n",
    "try:\n",
    "    score = float(score)\n",
    "\n",
    "    if score >= 0.0 and score <= 1.0:\n",
    "        print('Score     Grade')    \n",
    "        if score >= 0.9:\n",
    "            print(f'{score}     A')\n",
    "        elif score >= 0.8:\n",
    "            print(f'{score}     B')\n",
    "        elif score >= 0.7:\n",
    "            print(f'{score}     C')\n",
    "        elif score >= 0.6:\n",
    "            print(f'{score}     D')\n",
    "        else:\n",
    "            print(f'{score}     F')\n",
    "\n",
    "    else:\n",
    "        print('Bad Score')\n",
    "        \n",
    "except:\n",
    "    print('Bad score')\n"
   ]
  }
 ],
 "metadata": {
  "kernelspec": {
   "display_name": "Python 3",
   "language": "python",
   "name": "python3"
  },
  "language_info": {
   "name": "python",
   "version": "3.12.3"
  }
 },
 "nbformat": 4,
 "nbformat_minor": 2
}
