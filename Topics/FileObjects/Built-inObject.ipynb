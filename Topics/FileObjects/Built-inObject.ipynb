{
 "cells": [
  {
   "cell_type": "code",
   "execution_count": null,
   "id": "75f34f05",
   "metadata": {},
   "outputs": [
    {
     "data": {
      "text/plain": [
       "'r'"
      ]
     },
     "execution_count": 4,
     "metadata": {},
     "output_type": "execute_result"
    }
   ],
   "source": [
    "#> Normal method to open a file and read it.\n",
    "\n",
    "file = open('text.txt', 'r')        # open('file_path', 'operation/mode(read, write, append, ...)')\n",
    "\n",
    "file.name       # file name\n",
    "file.mode       # file mode (r, w, a, r+, ...)\n",
    "\n",
    "\n",
    "# WARRINING: Always don'r forget to close the file!\n",
    "# file.close()\n",
    "\n",
    "\n"
   ]
  },
  {
   "cell_type": "code",
   "execution_count": 43,
   "id": "4ce8d092",
   "metadata": {},
   "outputs": [
    {
     "name": "stdout",
     "output_type": "stream",
     "text": [
      "text.txt\n",
      "False\n",
      "1) This is* a test fi*le!\n",
      "2) Wit*h multiple* lines of *data...\n",
      "3)* Third lin*e\n",
      "4) Fourt*h line\n",
      "5) *Fifth line*\n",
      "6) Sixth *line*"
     ]
    }
   ],
   "source": [
    "#> Context Manager:\n",
    "# Note that outside of context manager block you can't use the file because it closed automatically.\n",
    "\n",
    "with open('text.txt', 'r') as file_handler:\n",
    "    print(file_handler.name)\n",
    "    print(file_handler.closed)       # False\n",
    "\n",
    "#> Read the entier content as a string:\n",
    "    # file_content = file_handler.read()\n",
    "    # print(file_content)\n",
    "\n",
    "\n",
    "#> Read List of lines:\n",
    "    # file_content = file_handler.readlines()     # return list of lines.\n",
    "    # print(file_content)\n",
    "\n",
    "\n",
    "#> Read line by line:\n",
    "    # file_content = file_handler.readline()          # return 1st line\n",
    "    # print(file_content, end='')\n",
    "    # file_content = file_handler.readline()          # return 2nd line\n",
    "    # print(file_content, end='')\n",
    "\n",
    "\n",
    "#> Iterate over lines:\n",
    "    # Note that this approach dosen't create a list of lines, but it reads from the file line at a time.\n",
    "    # for line in file_handler:\n",
    "    #     print(line)\n",
    "\n",
    "\n",
    "#> Read a specific num of characters:\n",
    "    # file_content = file_handler.read(70)\n",
    "    # print(file_content)\n",
    "    # print('=================')\n",
    "    # file_content = file_handler.read(10)\n",
    "    # print(file_content)\n",
    "\n",
    "\n",
    "#> Read a specific num of characters with while loop:\n",
    "    size_to_read = 10\n",
    "    file_content = file_handler.read(size_to_read)\n",
    "    while len(file_content) > 0:\n",
    "        print(file_content, end='*')\n",
    "        file_content = file_handler.read(size_to_read)\n",
    "\n",
    "\n",
    "\n",
    "\n",
    "# print(file_handler.closed)      # True\n",
    "# print(file_handler.read())      # ValueError: I/O operation on closed file.\n",
    "\n"
   ]
  },
  {
   "cell_type": "code",
   "execution_count": 49,
   "id": "39864cdd",
   "metadata": {},
   "outputs": [],
   "source": [
    "#> Writing on a file:\n",
    "# To write to a file we use 'w' mode.\n",
    "# 'w' mode create the file if it doesn't exist or override it if it already exists.\n",
    "\n",
    "with open('text2.txt', 'w') as file_handler:        # this line will create the file if it doesn't exist.\n",
    "    file_handler.write('New Line...')       # Write string to the file.\n",
    "    file_handler.write('Another new line...')\n",
    "    file_handler.seek(0)\n",
    "    file_handler.write('XXXXX')\n",
    "\n",
    "\n",
    "\n"
   ]
  },
  {
   "cell_type": "code",
   "execution_count": null,
   "id": "a797eb33",
   "metadata": {},
   "outputs": [],
   "source": [
    "# Example: Copy content of a file:\n",
    "\n",
    "with open('text.txt', 'r') as read_file:\n",
    "    with open('text_copy.txt', 'w') as write_file:\n",
    "        for line in read_file:\n",
    "            write_file.write(line)"
   ]
  },
  {
   "cell_type": "code",
   "execution_count": 52,
   "id": "e2f71b96",
   "metadata": {},
   "outputs": [],
   "source": [
    "#> Example: Copy an image:\n",
    "# Note that when dealing with images we need open files in binary mode and read-write bytes instead of string.\n",
    "\n",
    "with open('./images/user.png', 'rb') as read_image:\n",
    "    with open('./images/user_copy.png', 'wb') as write_image:\n",
    "        for line in read_image:\n",
    "            write_image.write(line)\n",
    "\n",
    "#> Another approach:\n",
    "with open('./images/user.png', 'rb') as read_image:\n",
    "    with open('./images/user_copy1.png', 'wb') as write_image:\n",
    "        chunk_size = 4096\n",
    "        read_image_chunk = read_image.read(chunk_size)\n",
    "\n",
    "        while len(read_image_chunk) > 0:\n",
    "            write_image.write(read_image_chunk)\n",
    "            read_image_chunk = read_image.read(chunk_size)\n",
    "\n"
   ]
  }
 ],
 "metadata": {
  "kernelspec": {
   "display_name": ".venv",
   "language": "python",
   "name": "python3"
  },
  "language_info": {
   "codemirror_mode": {
    "name": "ipython",
    "version": 3
   },
   "file_extension": ".py",
   "mimetype": "text/x-python",
   "name": "python",
   "nbconvert_exporter": "python",
   "pygments_lexer": "ipython3",
   "version": "3.12.3"
  }
 },
 "nbformat": 4,
 "nbformat_minor": 5
}
