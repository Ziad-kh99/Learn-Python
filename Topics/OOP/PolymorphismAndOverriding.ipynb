{
 "cells": [
  {
   "cell_type": "code",
   "execution_count": 2,
   "metadata": {},
   "outputs": [
    {
     "name": "stdout",
     "output_type": "stream",
     "text": [
      "Woof!\n"
     ]
    }
   ],
   "source": [
    "# Polymorphism:\n",
    "\n",
    "\n",
    "class Animal:\n",
    "    def make_sound(self):\n",
    "        print('Generic animal sound')\n",
    "\n",
    "class Dog(Animal):\n",
    "    def make_sound(self):\n",
    "        # super().make_sound()\n",
    "        print('Woof!')\n",
    "\n",
    "\n",
    "dog = Dog()\n",
    "\n",
    "dog.make_sound()"
   ]
  },
  {
   "cell_type": "code",
   "execution_count": 10,
   "metadata": {},
   "outputs": [
    {
     "name": "stdout",
     "output_type": "stream",
     "text": [
      "Duck quacks\n",
      "Person imitates duck\n"
     ]
    }
   ],
   "source": [
    "# Polymorphic Behavior with Duck Typing:\n",
    "\n",
    "class Duck:\n",
    "    def quack(self):\n",
    "        return 'Duck quacks'\n",
    "    \n",
    "class Person:\n",
    "    def quack(self):\n",
    "        return 'Person imitates duck'\n",
    "    \n",
    "def make_sound(obj):\n",
    "    return obj.quack()\n",
    "\n",
    "\n",
    "print(make_sound(Duck()))\n",
    "print(make_sound(Person()))\n"
   ]
  }
 ],
 "metadata": {
  "kernelspec": {
   "display_name": "Python 3",
   "language": "python",
   "name": "python3"
  },
  "language_info": {
   "codemirror_mode": {
    "name": "ipython",
    "version": 3
   },
   "file_extension": ".py",
   "mimetype": "text/x-python",
   "name": "python",
   "nbconvert_exporter": "python",
   "pygments_lexer": "ipython3",
   "version": "3.12.3"
  }
 },
 "nbformat": 4,
 "nbformat_minor": 2
}
