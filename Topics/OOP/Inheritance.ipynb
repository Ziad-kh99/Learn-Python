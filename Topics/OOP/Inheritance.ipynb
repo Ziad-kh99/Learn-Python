{
 "cells": [
  {
   "cell_type": "markdown",
   "metadata": {},
   "source": [
    "# Notes"
   ]
  },
  {
   "cell_type": "code",
   "execution_count": 48,
   "metadata": {},
   "outputs": [
    {
     "name": "stdout",
     "output_type": "stream",
     "text": [
      "Name: Hossam Khaled\n",
      "Email: hossam.khaled@hotmail.com\n",
      "Salary: 6000\n",
      "Porject: SaaS\n",
      "===> omar.ahamed@hotmail.com\n",
      "===> ziad.kh@hotmail.com\n",
      "===> ramy.taha@hotmail.com\n",
      "===> kareem.ahmed@hotmail.com\n",
      "Name: Hossam Khaled\n",
      "Email: hossam.khaled@hotmail.com\n",
      "Salary: 6000\n",
      "Porject: SaaS\n",
      "===> omar.ahamed@hotmail.com\n",
      "===> ziad.kh@hotmail.com\n",
      "===> ramy.taha@hotmail.com\n"
     ]
    }
   ],
   "source": [
    "# Inheritance:\n",
    "\n",
    "class Employee:\n",
    "\n",
    "    raise_amount = 1.04\n",
    "\n",
    "    def __init__(self, first_name, last_name, pay):\n",
    "        self.first_name = first_name\n",
    "        self.last_name = last_name\n",
    "        self.email = f'{self.first_name.lower()}.{self.last_name.lower()}@hotmail.com'\n",
    "        self.pay = pay\n",
    "\n",
    "\n",
    "    def print_emp_data(self):\n",
    "        print(f'Name: {self.first_name} {self.last_name}')\n",
    "        print(f'Email: {self.email}')\n",
    "        print(f'Salary: {self.pay}')\n",
    "\n",
    "\n",
    "    def apply_raise(self):\n",
    "        self.pay *= self.raise_amount\n",
    "        \n",
    "class Developer(Employee):\n",
    "    raise_amount = 1.10\n",
    "\n",
    "    def __init__(self, first_name, last_name, pay, prog_lang):\n",
    "        super().__init__(first_name, last_name, pay)\n",
    "        self.prog_lang = prog_lang \n",
    "\n",
    "    def print_emp_data(self):\n",
    "        super().print_emp_data()\n",
    "        print(f'Programming Lang: {self.prog_lang}')\n",
    "\n",
    "\n",
    "\n",
    "class Manager(Employee):\n",
    "    raise_amount = 2.00\n",
    "\n",
    "    def __init__(self, first_name, last_name, pay, project, employees=None):\n",
    "        super().__init__(first_name, last_name, pay)\n",
    "        self.project = project \n",
    "        if employees is None:\n",
    "            self.employees = []\n",
    "        else:\n",
    "            self.employees = employees \n",
    "\n",
    "    def add_emp(self, emp):\n",
    "        if emp not in self.employees:\n",
    "            self.employees.append(emp)\n",
    "\n",
    "    def remove_emp(self, emp):\n",
    "        if emp in self.employees:\n",
    "            self.employees.remove(emp)\n",
    "\n",
    "    def print_emps(self):\n",
    "        for emp in self.employees:\n",
    "            print(f'===> {emp.email}')\n",
    "\n",
    "    def print_emp_data(self):\n",
    "        super().print_emp_data()\n",
    "        print(f'Porject: {self.project}')\n",
    "\n",
    "\n",
    "\n",
    "\n",
    "emp1 = Employee('Omar', 'Ahamed', 5000)\n",
    "emp2 = Manager('Hossam', 'Khaled', 6000, 'SaaS', [emp1])\n",
    "dev1 = Developer('Kareem', 'Ahmed', 4500, 'Python')\n",
    "\n",
    "#emp1.print_emp_data()\n",
    "#emp2.print_emp_data()\n",
    "#dev1.print_emp_data()\n",
    "\n",
    "#print(dev1.pay)\n",
    "#dev1.apply_raise()\n",
    "#print(dev1.pay)\n",
    "\n",
    "#dev1.apply_raise()\n",
    "#dev1.print_emp_data()\n",
    "#emp2.apply_raise()\n",
    "#emp2.print_emp_data() \n",
    "\n",
    "emp2.print_emp_data()\n",
    "emp2.add_emp(Developer('Ziad', 'KH', 5000, 'Rust'))\n",
    "emp2.add_emp(Employee('Ramy', 'Taha', 3200))\n",
    "emp2.add_emp(dev1)\n",
    "emp2.print_emps()\n",
    "emp2.remove_emp(dev1)\n",
    "emp2.print_emp_data()\n",
    "emp2.print_emps()\n",
    "\n",
    "\n",
    "\n",
    "\n"
   ]
  },
  {
   "cell_type": "code",
   "execution_count": 61,
   "metadata": {},
   "outputs": [
    {
     "name": "stdout",
     "output_type": "stream",
     "text": [
      "True\n",
      "True\n",
      "True\n",
      "True\n"
     ]
    }
   ],
   "source": [
    "# isinstance() & issubclass() functions:\n",
    "\n",
    "\n",
    "print(isinstance(emp1, Employee))\n",
    "print(isinstance(emp2, Manager))\n",
    "print(isinstance(emp2, Employee))\n",
    "\n",
    "\n",
    "print(issubclass(Developer, Employee))"
   ]
  }
 ],
 "metadata": {
  "kernelspec": {
   "display_name": "Python 3",
   "language": "python",
   "name": "python3"
  },
  "language_info": {
   "codemirror_mode": {
    "name": "ipython",
    "version": 3
   },
   "file_extension": ".py",
   "mimetype": "text/x-python",
   "name": "python",
   "nbconvert_exporter": "python",
   "pygments_lexer": "ipython3",
   "version": "3.12.3"
  }
 },
 "nbformat": 4,
 "nbformat_minor": 2
}
