{
 "cells": [
  {
   "cell_type": "markdown",
   "metadata": {},
   "source": [
    "# Any modification in dunder method is an 'overload' operation."
   ]
  },
  {
   "cell_type": "code",
   "execution_count": 39,
   "metadata": {},
   "outputs": [
    {
     "name": "stdout",
     "output_type": "stream",
     "text": [
      "Ziad - ziad.khaled@hotmail.com\n",
      "Employee('Ziad', 'Khaled', 5000)\n",
      "Omar - omar.ahmed@hotmail.com\n",
      "Employee('Ziad', 'Khaled', 5000)\n",
      "Omar - omar.ahmed@hotmail.com\n"
     ]
    },
    {
     "data": {
      "text/plain": [
       "9"
      ]
     },
     "execution_count": 39,
     "metadata": {},
     "output_type": "execute_result"
    }
   ],
   "source": [
    "# Magic / Dunder Methods:\n",
    "\n",
    "\n",
    "class Employee:\n",
    "\n",
    "    raise_amount = 1.04\n",
    "\n",
    "    def __init__(self, first_name, last_name, pay):\n",
    "        self.first_name = first_name\n",
    "        self.last_name = last_name\n",
    "        self.email = f'{self.first_name.lower()}.{self.last_name.lower()}@hotmail.com'\n",
    "        self.pay = pay \n",
    "\n",
    "    def print_emp_data(self):\n",
    "        print(f'Name: {self.first_name} {self.last_name}')\n",
    "        print(f'Email: {self.email}')\n",
    "        print(f'Salary: {self.pay}')\n",
    "\n",
    "\n",
    "    def apply_raise(self):\n",
    "        self.pay *= self.raise_amount \n",
    "\n",
    "    def __repr__(self):\n",
    "        return \"Employee('{}', '{}', {})\".format(self.first_name, self.last_name, self.pay)\n",
    "\n",
    "    def __str__(self):\n",
    "        return '{} - {}'.format(self.first_name, self.email)\n",
    "    \n",
    "    def __add__(self, emp):\n",
    "        return self.pay + emp.pay\n",
    "    \n",
    "    def __len__(self):\n",
    "        counter = 0\n",
    "        full_name = self.first_name + self.last_name\n",
    "        for char in full_name:\n",
    "            counter += 1\n",
    "        return counter\n",
    "    \n",
    "\n",
    "emp1 = Employee('Ziad', 'Khaled', 5000)\n",
    "emp2 = Employee('Omar', 'Ahmed', 6000)\n",
    "\n",
    "\n",
    "print(emp1)     # implicitly call __str__() dunder method.\n",
    "\n",
    "print(repr(emp1))\n",
    "print(str(emp2))\n",
    "\n",
    "print(emp1.__repr__())\n",
    "print(emp2.__str__())\n",
    "\n",
    "emp1 + emp2\n",
    "emp1.__add__(emp2)\n",
    "Employee.__add__(emp1, emp2)\n",
    "\n",
    "\n",
    "emp1.__len__()\n",
    "emp2.__len__()\n",
    "len(emp2)"
   ]
  },
  {
   "cell_type": "code",
   "execution_count": 5,
   "metadata": {},
   "outputs": [
    {
     "name": "stdout",
     "output_type": "stream",
     "text": [
      "Name: Ziad\n",
      "Age: 25\n",
      "Your person name is Ziad (by __repr__)\n"
     ]
    }
   ],
   "source": [
    "# __str__ and __repr__:\n",
    "\n",
    "class Person:\n",
    "    def __init__(self, name, age):\n",
    "        self.name = name\n",
    "        self.age = age\n",
    "\n",
    "    def __str__(self):\n",
    "        return f'Name: {self.name}\\nAge: {self.age}'\n",
    "    \n",
    "    def __repr__(self):\n",
    "        return f'Your person name is {self.name} (by __repr__)'\n",
    "\n",
    "\n",
    "p1 = Person('Ziad', 25)\n",
    "\n",
    "print(p1)       # this will invode magic method __str__\n",
    "\n",
    "print(p1.__repr__())"
   ]
  }
 ],
 "metadata": {
  "kernelspec": {
   "display_name": "Python 3",
   "language": "python",
   "name": "python3"
  },
  "language_info": {
   "codemirror_mode": {
    "name": "ipython",
    "version": 3
   },
   "file_extension": ".py",
   "mimetype": "text/x-python",
   "name": "python",
   "nbconvert_exporter": "python",
   "pygments_lexer": "ipython3",
   "version": "3.12.3"
  }
 },
 "nbformat": 4,
 "nbformat_minor": 2
}
