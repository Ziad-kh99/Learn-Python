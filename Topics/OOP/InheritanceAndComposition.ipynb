{
 "cells": [
  {
   "cell_type": "markdown",
   "metadata": {},
   "source": [
    "# Notes"
   ]
  },
  {
   "cell_type": "code",
   "execution_count": 48,
   "metadata": {},
   "outputs": [
    {
     "name": "stdout",
     "output_type": "stream",
     "text": [
      "Name: Hossam Khaled\n",
      "Email: hossam.khaled@hotmail.com\n",
      "Salary: 6000\n",
      "Porject: SaaS\n",
      "===> omar.ahamed@hotmail.com\n",
      "===> ziad.kh@hotmail.com\n",
      "===> ramy.taha@hotmail.com\n",
      "===> kareem.ahmed@hotmail.com\n",
      "Name: Hossam Khaled\n",
      "Email: hossam.khaled@hotmail.com\n",
      "Salary: 6000\n",
      "Porject: SaaS\n",
      "===> omar.ahamed@hotmail.com\n",
      "===> ziad.kh@hotmail.com\n",
      "===> ramy.taha@hotmail.com\n"
     ]
    }
   ],
   "source": [
    "# Inheritance:\n",
    "\n",
    "class Employee:\n",
    "\n",
    "    raise_amount = 1.04\n",
    "\n",
    "    def __init__(self, first_name, last_name, pay):\n",
    "        self.first_name = first_name\n",
    "        self.last_name = last_name\n",
    "        self.email = f'{self.first_name.lower()}.{self.last_name.lower()}@hotmail.com'\n",
    "        self.pay = pay\n",
    "\n",
    "\n",
    "    def print_emp_data(self):\n",
    "        print(f'Name: {self.first_name} {self.last_name}')\n",
    "        print(f'Email: {self.email}')\n",
    "        print(f'Salary: {self.pay}')\n",
    "\n",
    "\n",
    "    def apply_raise(self):\n",
    "        self.pay *= self.raise_amount\n",
    "        \n",
    "class Developer(Employee):\n",
    "    raise_amount = 1.10\n",
    "\n",
    "    def __init__(self, first_name, last_name, pay, prog_lang):\n",
    "        super().__init__(first_name, last_name, pay)\n",
    "        self.prog_lang = prog_lang \n",
    "\n",
    "    def print_emp_data(self):\n",
    "        super().print_emp_data()\n",
    "        print(f'Programming Lang: {self.prog_lang}')\n",
    "\n",
    "\n",
    "\n",
    "class Manager(Employee):\n",
    "    raise_amount = 2.00\n",
    "\n",
    "    def __init__(self, first_name, last_name, pay, project, employees=None):\n",
    "        super().__init__(first_name, last_name, pay)\n",
    "        self.project = project \n",
    "        if employees is None:\n",
    "            self.employees = []\n",
    "        else:\n",
    "            self.employees = employees \n",
    "\n",
    "    def add_emp(self, emp):\n",
    "        if emp not in self.employees:\n",
    "            self.employees.append(emp)\n",
    "\n",
    "    def remove_emp(self, emp):\n",
    "        if emp in self.employees:\n",
    "            self.employees.remove(emp)\n",
    "\n",
    "    def print_emps(self):\n",
    "        for emp in self.employees:\n",
    "            print(f'===> {emp.email}')\n",
    "\n",
    "    def print_emp_data(self):\n",
    "        super().print_emp_data()\n",
    "        print(f'Porject: {self.project}')\n",
    "\n",
    "\n",
    "\n",
    "\n",
    "emp1 = Employee('Omar', 'Ahamed', 5000)\n",
    "emp2 = Manager('Hossam', 'Khaled', 6000, 'SaaS', [emp1])\n",
    "dev1 = Developer('Kareem', 'Ahmed', 4500, 'Python')\n",
    "\n",
    "#emp1.print_emp_data()\n",
    "#emp2.print_emp_data()\n",
    "#dev1.print_emp_data()\n",
    "\n",
    "#print(dev1.pay)\n",
    "#dev1.apply_raise()\n",
    "#print(dev1.pay)\n",
    "\n",
    "#dev1.apply_raise()\n",
    "#dev1.print_emp_data()\n",
    "#emp2.apply_raise()\n",
    "#emp2.print_emp_data() \n",
    "\n",
    "emp2.print_emp_data()\n",
    "emp2.add_emp(Developer('Ziad', 'KH', 5000, 'Rust'))\n",
    "emp2.add_emp(Employee('Ramy', 'Taha', 3200))\n",
    "emp2.add_emp(dev1)\n",
    "emp2.print_emps()\n",
    "emp2.remove_emp(dev1)\n",
    "emp2.print_emp_data()\n",
    "emp2.print_emps()\n",
    "\n",
    "\n",
    "\n",
    "\n"
   ]
  },
  {
   "cell_type": "code",
   "execution_count": 61,
   "metadata": {},
   "outputs": [
    {
     "name": "stdout",
     "output_type": "stream",
     "text": [
      "True\n",
      "True\n",
      "True\n",
      "True\n"
     ]
    }
   ],
   "source": [
    "# isinstance() & issubclass() functions:\n",
    "\n",
    "\n",
    "print(isinstance(emp1, Employee))\n",
    "print(isinstance(emp2, Manager))\n",
    "print(isinstance(emp2, Employee))\n",
    "\n",
    "\n",
    "print(issubclass(Developer, Employee))"
   ]
  },
  {
   "cell_type": "code",
   "execution_count": null,
   "metadata": {},
   "outputs": [],
   "source": []
  },
  {
   "cell_type": "code",
   "execution_count": 2,
   "metadata": {},
   "outputs": [
    {
     "name": "stdout",
     "output_type": "stream",
     "text": [
      "Woof!\n",
      "Woof!\n"
     ]
    }
   ],
   "source": [
    "class Animal:\n",
    "    def __init__(self, name):\n",
    "        self.name = name\n",
    "\n",
    "    def make_sound(self):\n",
    "        print('Generic animal sound.')\n",
    "\n",
    "\n",
    "class Dog(Animal):\n",
    "    def __init__(self, name, breed):\n",
    "        super().__init__(name)          # call parent class constructor.\n",
    "        self.breed = breed\n",
    "\n",
    "    def make_sound(self):\n",
    "        print('Woof!')\n",
    "\n",
    "dog = Dog('Rocky', 'Labrador')\n",
    "dog.make_sound()\n"
   ]
  },
  {
   "cell_type": "code",
   "execution_count": 3,
   "metadata": {},
   "outputs": [
    {
     "name": "stdout",
     "output_type": "stream",
     "text": [
      "Engine starting...\n"
     ]
    }
   ],
   "source": [
    "# Composition:\n",
    "\n",
    "class Car:\n",
    "    def __init__(self, engine):\n",
    "        self.engine = engine        # Engine object as an attribute.\n",
    "\n",
    "    def start(self):\n",
    "        self.engine.start()\n",
    "\n",
    "class Engine:\n",
    "    def __init__(self):\n",
    "        pass\n",
    "\n",
    "    def start(self):\n",
    "        print('Engine starting...')\n",
    "\n",
    "\n",
    "car = Car(Engine())\n",
    "car.start()"
   ]
  },
  {
   "cell_type": "code",
   "execution_count": 18,
   "metadata": {},
   "outputs": [
    {
     "name": "stdout",
     "output_type": "stream",
     "text": [
      "Flying...\n",
      "Swimming...\n",
      "This is the Flyer class\n"
     ]
    }
   ],
   "source": [
    "# Multiple Inheritance:\n",
    "\n",
    "class Flyer:\n",
    "    def fly(self):\n",
    "        print('Flying...')\n",
    "\n",
    "    def info(self):\n",
    "        print('This is the Flyer class')\n",
    "\n",
    "class Swimmer:\n",
    "    def swim(self):\n",
    "        print('Swimming...')\n",
    "\n",
    "    def info(self):\n",
    "        print('This is the Swimmer class')\n",
    "\n",
    "class Duck(Flyer, Swimmer):\n",
    "    pass\n",
    "\n",
    "duck = Duck()\n",
    "\n",
    "duck.fly()\n",
    "duck.swim()\n",
    "duck.info()"
   ]
  },
  {
   "cell_type": "code",
   "execution_count": 20,
   "metadata": {},
   "outputs": [
    {
     "name": "stdout",
     "output_type": "stream",
     "text": [
      "Charging...\n",
      "Moving...\n"
     ]
    }
   ],
   "source": [
    "# Multilevel Inheritance:\n",
    "\n",
    "class Vehicle:\n",
    "    def move(self):\n",
    "        print('Moving...')\n",
    "\n",
    "class Car(Vehicle):\n",
    "    pass\n",
    "\n",
    "class ElectricCar(Car):\n",
    "        def charge(self):\n",
    "             print('Charging...')\n",
    "\n",
    "\n",
    "tesla = ElectricCar()\n",
    "tesla.charge()\n",
    "tesla.move()"
   ]
  },
  {
   "cell_type": "code",
   "execution_count": 31,
   "metadata": {},
   "outputs": [
    {
     "name": "stdout",
     "output_type": "stream",
     "text": [
      "Hello from class A\n"
     ]
    }
   ],
   "source": [
    "# Method Resolution Order (MRO):\n",
    "\n",
    "\n",
    "class A:\n",
    "    def greet(self):\n",
    "        return 'Hello from class A'\n",
    "    \n",
    "class B(A):\n",
    "    def greet(self):\n",
    "        return 'Hello from class B'\n",
    "    \n",
    "class C(A):\n",
    "    def greet(self):\n",
    "        return 'Hello from class C'\n",
    "    \n",
    "class D(B, C):\n",
    "    pass\n",
    "\n",
    "\n",
    "obj_d = D()\n",
    "\n",
    "print(obj_d.greet())"
   ]
  }
 ],
 "metadata": {
  "kernelspec": {
   "display_name": "Python 3",
   "language": "python",
   "name": "python3"
  },
  "language_info": {
   "codemirror_mode": {
    "name": "ipython",
    "version": 3
   },
   "file_extension": ".py",
   "mimetype": "text/x-python",
   "name": "python",
   "nbconvert_exporter": "python",
   "pygments_lexer": "ipython3",
   "version": "3.12.3"
  }
 },
 "nbformat": 4,
 "nbformat_minor": 2
}
