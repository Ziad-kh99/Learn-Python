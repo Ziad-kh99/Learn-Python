{
 "cells": [
  {
   "cell_type": "markdown",
   "metadata": {},
   "source": []
  },
  {
   "cell_type": "code",
   "execution_count": null,
   "metadata": {},
   "outputs": [
    {
     "name": "stdout",
     "output_type": "stream",
     "text": [
      "Ziad Khaled\n",
      "Hossam Kh\n",
      "Hossam\n",
      "Delete name!\n"
     ]
    }
   ],
   "source": [
    "# Intro:\n",
    "\n",
    "class Employee:\n",
    "    def __init__(self, first_name, last_name):\n",
    "        self.first_name = first_name\n",
    "        self.last_name = last_name\n",
    "        \n",
    "#> Getter properties:\n",
    "    @property\n",
    "    def email(self):\n",
    "        return f'{self.first_name.lower()}.{self.last_name.lower()}@hotmail.com'\n",
    "    \n",
    "    @property\n",
    "    def full_name(self):\n",
    "        return f'{self.first_name} {self.last_name}'\n",
    "\n",
    "#> Setter properties:\n",
    "    @full_name.setter \n",
    "    def full_name(self, name):\n",
    "        self.first_name, self.last_name = name.split(' ')\n",
    "        \n",
    "\n",
    "#> Deleter properties:\n",
    "    @full_name.deleter \n",
    "    def full_name(self):\n",
    "        print('Delete name!')          \n",
    "        self.first_name = None \n",
    "        self.last_name = None \n",
    "\n",
    "\n",
    "\n",
    "################################################################33\n",
    "\n",
    "emp1 = Employee('Ziad', 'Khaled')\n",
    "\n",
    "print(emp1.full_name)\n",
    "# print(emp1.email)\n",
    "# emp1.last_name = 'Elsayed'\n",
    "# print(emp1.full_name)\n",
    "# print(emp1.email)\n",
    "\n",
    "\n",
    "emp1.full_name = 'Hossam Kh'\n",
    "print(emp1.full_name)\n",
    "print(emp1.first_name)\n",
    "\n",
    "del emp1.full_name "
   ]
  }
 ],
 "metadata": {
  "kernelspec": {
   "display_name": "Python 3",
   "language": "python",
   "name": "python3"
  },
  "language_info": {
   "codemirror_mode": {
    "name": "ipython",
    "version": 3
   },
   "file_extension": ".py",
   "mimetype": "text/x-python",
   "name": "python",
   "nbconvert_exporter": "python",
   "pygments_lexer": "ipython3",
   "version": "3.12.3"
  }
 },
 "nbformat": 4,
 "nbformat_minor": 2
}
