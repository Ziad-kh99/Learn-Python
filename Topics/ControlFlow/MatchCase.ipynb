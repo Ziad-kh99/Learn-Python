{
 "cells": [
  {
   "cell_type": "markdown",
   "metadata": {},
   "source": [
    "# Match Case Statement:\n",
    "\n"
   ]
  },
  {
   "cell_type": "code",
   "execution_count": 7,
   "metadata": {},
   "outputs": [
    {
     "name": "stdout",
     "output_type": "stream",
     "text": [
      "TGIF!\n"
     ]
    }
   ],
   "source": [
    "# Match Case Syntax:\n",
    "\n",
    "day = 'friday'\n",
    "\n",
    "match day:\n",
    "    case 'monday':\n",
    "        print('Ugh, Mondays...')\n",
    "    case 'tuesday':\n",
    "        print('Just another workday...')\n",
    "    case 'wednesday':\n",
    "        print('Hump day!')\n",
    "    case 'thursday':\n",
    "        print('Almost there...')\n",
    "    case 'friday':\n",
    "        print('TGIF!')\n",
    "    case 'saturday' | 'sunday':     # matching multiple values with pipe |\n",
    "        print('Weekend vibes!')\n",
    "    case _:\n",
    "        print('Invalid day entered.')"
   ]
  },
  {
   "cell_type": "code",
   "execution_count": 13,
   "metadata": {},
   "outputs": [
    {
     "name": "stdout",
     "output_type": "stream",
     "text": [
      "Its not an integer or string.\n"
     ]
    }
   ],
   "source": [
    "# Matching data types:\n",
    "\n",
    "value = list()\n",
    "\n",
    "match value:\n",
    "    case int():\n",
    "        print(f'You entered an integer: {value}')\n",
    "    case str():\n",
    "        print(f'You enterd a string: {value}')\n",
    "    case dict():\n",
    "        print('You enterd a dict.')\n",
    "    case _:\n",
    "        print('Its not an integer or string.')"
   ]
  },
  {
   "cell_type": "code",
   "execution_count": 7,
   "metadata": {},
   "outputs": [
    {
     "name": "stdout",
     "output_type": "stream",
     "text": [
      "18\n"
     ]
    }
   ],
   "source": [
    "\n",
    "numbers = [1, 5, 3, 9]\n",
    "\n",
    "total = 0\n",
    "\n",
    "for number in numbers:\n",
    "    total += number \n",
    "\n",
    "print(total)"
   ]
  }
 ],
 "metadata": {
  "kernelspec": {
   "display_name": "Python 3",
   "language": "python",
   "name": "python3"
  },
  "language_info": {
   "codemirror_mode": {
    "name": "ipython",
    "version": 3
   },
   "file_extension": ".py",
   "mimetype": "text/x-python",
   "name": "python",
   "nbconvert_exporter": "python",
   "pygments_lexer": "ipython3",
   "version": "3.12.3"
  }
 },
 "nbformat": 4,
 "nbformat_minor": 2
}
