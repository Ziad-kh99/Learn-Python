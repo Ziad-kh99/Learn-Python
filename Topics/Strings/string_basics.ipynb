{
 "cells": [
  {
   "cell_type": "markdown",
   "metadata": {},
   "source": [
    "# String is a immutable and ordered collection of chars."
   ]
  },
  {
   "cell_type": "code",
   "execution_count": null,
   "metadata": {},
   "outputs": [
    {
     "name": "stdout",
     "output_type": "stream",
     "text": [
      "This text all On the Same line.\n"
     ]
    }
   ],
   "source": [
    "# Representing a string.\n",
    "\n",
    "my_string = 'Hello Wrold'\n",
    "my_name = 'I\\'m Ziad Khaled.'\n",
    "paragraph = '''First line,\n",
    "Second Line,\n",
    "Third Line,\n",
    "....\n",
    "'''\n",
    "\n",
    "paragraph2 = '''This text all \\\n",
    "On the \\\n",
    "Same line.'''\n",
    "\n",
    "print(paragraph2)"
   ]
  },
  {
   "cell_type": "code",
   "execution_count": null,
   "metadata": {},
   "outputs": [
    {
     "name": "stdout",
     "output_type": "stream",
     "text": [
      "e\n",
      "!\n"
     ]
    }
   ],
   "source": [
    "# Accessing a sub-string:\n",
    "\n",
    "my_string = \"Hello world!\"\n",
    "\n",
    "print(my_string[1])\n",
    "print(my_string[-1])    \n",
    "\n"
   ]
  },
  {
   "cell_type": "code",
   "execution_count": null,
   "metadata": {},
   "outputs": [
    {
     "ename": "TypeError",
     "evalue": "'str' object does not support item assignment",
     "output_type": "error",
     "traceback": [
      "\u001b[0;31m---------------------------------------------------------------------------\u001b[0m",
      "\u001b[0;31mTypeError\u001b[0m                                 Traceback (most recent call last)",
      "Cell \u001b[0;32mIn[12], line 5\u001b[0m\n\u001b[1;32m      1\u001b[0m \u001b[38;5;66;03m# String is mutable data type:\u001b[39;00m\n\u001b[1;32m      3\u001b[0m my_string \u001b[38;5;241m=\u001b[39m \u001b[38;5;124m'\u001b[39m\u001b[38;5;124mHello world!\u001b[39m\u001b[38;5;124m'\u001b[39m\n\u001b[0;32m----> 5\u001b[0m \u001b[43mmy_string\u001b[49m\u001b[43m[\u001b[49m\u001b[38;5;241;43m0\u001b[39;49m\u001b[43m]\u001b[49m \u001b[38;5;241m=\u001b[39m \u001b[38;5;124m'\u001b[39m\u001b[38;5;124mh\u001b[39m\u001b[38;5;124m'\u001b[39m\n\u001b[1;32m      7\u001b[0m \u001b[38;5;28mprint\u001b[39m(my_string)\n",
      "\u001b[0;31mTypeError\u001b[0m: 'str' object does not support item assignment"
     ]
    }
   ],
   "source": [
    "# String is immutable data type:\n",
    "\n",
    "my_string = 'Hello world!'\n",
    "\n",
    "my_string[0] = 'h'  # Error: str doesn't support item assignment.\n",
    "\n",
    "print(my_string)"
   ]
  },
  {
   "cell_type": "code",
   "execution_count": null,
   "metadata": {},
   "outputs": [
    {
     "name": "stdout",
     "output_type": "stream",
     "text": [
      "txet fo eceip gnol a si sihT\n"
     ]
    }
   ],
   "source": [
    "# String slicing [start:stop:step]:\n",
    "\n",
    "text = 'This is a long piece of text'\n",
    "\n",
    "sub_string = text[0:4]\n",
    "\n",
    "reversed_text = text[::-1]\n",
    "\n",
    "print(reversed_text)\n",
    "\n"
   ]
  },
  {
   "cell_type": "code",
   "execution_count": 18,
   "metadata": {},
   "outputs": [
    {
     "name": "stdout",
     "output_type": "stream",
     "text": [
      "THIS IS A LONG PIECE OF TEXT\n"
     ]
    }
   ],
   "source": [
    "# Iterate over a string:\n",
    "\n",
    "text = 'This is a long piece of text'\n",
    "capital_text = ''\n",
    "\n",
    "\n",
    "for char in text:\n",
    "    capital_text += char.upper()\n",
    "    \n",
    "print(capital_text)    "
   ]
  },
  {
   "cell_type": "code",
   "execution_count": null,
   "metadata": {},
   "outputs": [
    {
     "name": "stdout",
     "output_type": "stream",
     "text": [
      "No\n"
     ]
    }
   ],
   "source": [
    "# Search in string usint 'in' operator:\n",
    "\n",
    "text = 'This is a long piece of text'\n",
    "\n",
    "if 'b' in text:\n",
    "    print('Yes')\n",
    "else:\n",
    "    print('No')\n",
    "\n",
    "\n"
   ]
  },
  {
   "cell_type": "code",
   "execution_count": 25,
   "metadata": {},
   "outputs": [
    {
     "name": "stdout",
     "output_type": "stream",
     "text": [
      "This is a long piece of text\n"
     ]
    }
   ],
   "source": [
    "# Dealing with whitespace:\n",
    "\n",
    "text = '      This is a long piece of text      '\n",
    "\n",
    "formatted_text = text.lstrip()\n",
    "formatted_text = text.rstrip()\n",
    "formatted_text = text.strip()\n",
    "print(formatted_text)\n"
   ]
  },
  {
   "cell_type": "code",
   "execution_count": null,
   "metadata": {},
   "outputs": [
    {
     "name": "stdout",
     "output_type": "stream",
     "text": [
      "a a a a a\n"
     ]
    }
   ],
   "source": [
    "# String with Lists:\n",
    "\n",
    "text = 'How are you doing?'\n",
    "\n",
    "text_list = list(text)      # Convert 'str' to 'list' \n",
    "# text_list = text.split()    # delemeter is ' ' by default. \n",
    "new_text = ''.join(text_list)   # concatenate all list items in one str.\n",
    "\n",
    "\n",
    "my_list = ['a'] * 5\n",
    "\n",
    "# bas code:\n",
    "my_string = ''\n",
    "for i in my_list:\n",
    "    my_string += i      # will create a new string each iteration!!!\n",
    "\n",
    "# good code:\n",
    "my_string = ''.join(my_string)\n",
    "\n",
    "print(my_string)\n",
    "\n",
    "\n",
    "\n"
   ]
  },
  {
   "cell_type": "code",
   "execution_count": 48,
   "metadata": {},
   "outputs": [
    {
     "name": "stdout",
     "output_type": "stream",
     "text": [
      "Hello Ziad\n"
     ]
    }
   ],
   "source": [
    "# Formatting a string:\n",
    "\n",
    "# Old style with % and .format():\n",
    "\n",
    "name = 'Ziad'\n",
    "greeting = 'Hello %s' %name\n",
    "\n",
    "greeting = 'Hello {}'.format(name)\n",
    "\n",
    "\n",
    "\n",
    "# f-string format:\n",
    "greeting = f'Hello {name}'\n",
    "\n",
    "print(greeting)\n"
   ]
  }
 ],
 "metadata": {
  "kernelspec": {
   "display_name": "Python 3",
   "language": "python",
   "name": "python3"
  },
  "language_info": {
   "codemirror_mode": {
    "name": "ipython",
    "version": 3
   },
   "file_extension": ".py",
   "mimetype": "text/x-python",
   "name": "python",
   "nbconvert_exporter": "python",
   "pygments_lexer": "ipython3",
   "version": "3.12.3"
  }
 },
 "nbformat": 4,
 "nbformat_minor": 2
}
