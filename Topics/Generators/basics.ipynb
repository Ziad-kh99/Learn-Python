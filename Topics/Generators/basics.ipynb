{
 "cells": [
  {
   "cell_type": "markdown",
   "id": "8c541b32",
   "metadata": {},
   "source": [
    "# Generators:\n",
    "- Type of functions that generate a list of elements with 'lazy execution' technique.\n",
    "- in 'lazy execution' the generator generate and return in each iteration.\n"
   ]
  },
  {
   "cell_type": "code",
   "execution_count": 16,
   "id": "c7730045",
   "metadata": {},
   "outputs": [
    {
     "name": "stdout",
     "output_type": "stream",
     "text": [
      "0\n",
      "1\n",
      "8\n",
      "-----\n",
      "27\n",
      "64\n",
      "125\n",
      "216\n",
      "343\n"
     ]
    }
   ],
   "source": [
    "# Create Generator:\n",
    "\n",
    "def my_generator(n):\n",
    "    for x in range(n):\n",
    "        yield x ** 3\n",
    "    \n",
    "values = my_generator(10)\n",
    "\n",
    "# print(next(values))\n",
    "# print(next(values))\n",
    "# print(next(values))\n",
    "# print(next(values))\n",
    "# print(next(values))\n",
    "\n",
    "for x in range(3):\n",
    "    print(next(values))\n",
    "    \n",
    "print('-----')\n",
    "\n",
    "for x in range(5):\n",
    "    print(next(values))"
   ]
  },
  {
   "cell_type": "code",
   "execution_count": 17,
   "id": "beebfd81",
   "metadata": {},
   "outputs": [
    {
     "name": "stdout",
     "output_type": "stream",
     "text": [
      "1\n",
      "5\n",
      "25\n",
      "125\n",
      "625\n",
      "3125\n",
      "15625\n",
      "78125\n",
      "390625\n",
      "1953125\n",
      "9765625\n",
      "48828125\n",
      "244140625\n",
      "1220703125\n",
      "6103515625\n"
     ]
    }
   ],
   "source": [
    "# Create infinite sequence:\n",
    "\n",
    "def infinite_sequence():\n",
    "    result = 1\n",
    "    while True:\n",
    "        yield result\n",
    "        result *= 5\n",
    "\n",
    "values = infinite_sequence()\n",
    "\n",
    "for x in range(15):\n",
    "    print(next(values))"
   ]
  }
 ],
 "metadata": {
  "kernelspec": {
   "display_name": ".venv",
   "language": "python",
   "name": "python3"
  },
  "language_info": {
   "codemirror_mode": {
    "name": "ipython",
    "version": 3
   },
   "file_extension": ".py",
   "mimetype": "text/x-python",
   "name": "python",
   "nbconvert_exporter": "python",
   "pygments_lexer": "ipython3",
   "version": "3.12.3"
  }
 },
 "nbformat": 4,
 "nbformat_minor": 5
}
