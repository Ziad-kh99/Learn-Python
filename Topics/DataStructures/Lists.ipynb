{
 "cells": [
  {
   "cell_type": "code",
   "execution_count": 8,
   "metadata": {},
   "outputs": [
    {
     "data": {
      "text/plain": [
       "[1, 2, 3, 4, 5]"
      ]
     },
     "execution_count": 8,
     "metadata": {},
     "output_type": "execute_result"
    }
   ],
   "source": [
    "# List Comprehensions:\n",
    "# Syntax: [expression for item in iterable]\n",
    "\n",
    "numbers = [1, 2, 3, 4]\n",
    "squares = [number ** 2 for number in numbers]\n",
    "\n",
    "words = ['apple', 'banana', 'cherry']\n",
    "word_len = [len(word) for word in words]\n",
    "\n",
    "\n",
    "numbers = [1, -2, 3, -4, 5]\n",
    "absolute_values = [abs(number) for number in numbers]\n",
    "\n",
    "words = ['apple', 'banana', 'cherry', 'date', 'elderberry']\n",
    "filtered_list = [word for word in words if len(word) > 5]\n",
    "\n",
    "celsius_temps = [0, 10, 20, 30, 40]\n",
    "result = [temp for temp in celsius_temps if temp > 0]\n",
    "\n",
    "numbers = [1, -2, 3, -4, 5]\n",
    "result = [number if number >= 0 else abs(number) for number in numbers]\n",
    "\n",
    "result"
   ]
  },
  {
   "cell_type": "code",
   "execution_count": 14,
   "metadata": {},
   "outputs": [
    {
     "data": {
      "text/plain": [
       "[3, 7, 11]"
      ]
     },
     "execution_count": 14,
     "metadata": {},
     "output_type": "execute_result"
    }
   ],
   "source": [
    "# Nested List Comprehensions:\n",
    "\n",
    "matrix = [[1, 2, 3], [4, 5, 6], [7, 8, 9]]\n",
    "flattened = []\n",
    "\n",
    "for row in matrix:\n",
    "    for number in row:\n",
    "        flattened.append(number)\n",
    "\n",
    "flattened = [number for row in matrix for number in row]\n",
    "filtered_flattended = [number for row in matrix for number in row if number > 5]\n",
    "\n",
    "\n",
    "pairs = [[1, 2], [3, 4], [5, 6]]\n",
    "pair_sum = [pair[0] + pair[1] for pair in pairs]\n",
    "pair_sum\n"
   ]
  },
  {
   "cell_type": "code",
   "execution_count": null,
   "metadata": {},
   "outputs": [
    {
     "data": {
      "text/plain": [
       "[[0, 0, 0], [0, 1, 2], [0, 2, 4]]"
      ]
     },
     "execution_count": 5,
     "metadata": {},
     "output_type": "execute_result"
    }
   ],
   "source": [
    "# List Comprehension - Creating a Grid:\n",
    "\n",
    "grid = [[num * x for num in range(0,3)] for x in range(0, 3)]\n",
    "\n",
    "grid"
   ]
  },
  {
   "cell_type": "code",
   "execution_count": null,
   "metadata": {},
   "outputs": [],
   "source": [
    "# 3D Grid Challenge:\n",
    "\n",
    "x = int(input())\n",
    "y = int(input())\n",
    "z = int(input())\n",
    "n = int(input())\n",
    "\n",
    "result = [[i, j, k] for i in range(x+1) for j in range(y+1) for k in range(z+1) if i + j + k != n]\n",
    "\n",
    "print(result)\n"
   ]
  },
  {
   "cell_type": "code",
   "execution_count": 1,
   "metadata": {},
   "outputs": [
    {
     "data": {
      "text/plain": [
       "[1, 4, 9, 16]"
      ]
     },
     "execution_count": 1,
     "metadata": {},
     "output_type": "execute_result"
    }
   ],
   "source": [
    "# Test:\n",
    "\n",
    "numbers = [1, 2, 3, 4]\n",
    "numbers_squared = []\n",
    "\n",
    "for number in numbers:\n",
    "    numbers_squared.append(number**2)\n",
    "\n",
    "numbers_squared"
   ]
  }
 ],
 "metadata": {
  "kernelspec": {
   "display_name": ".venv",
   "language": "python",
   "name": "python3"
  },
  "language_info": {
   "codemirror_mode": {
    "name": "ipython",
    "version": 3
   },
   "file_extension": ".py",
   "mimetype": "text/x-python",
   "name": "python",
   "nbconvert_exporter": "python",
   "pygments_lexer": "ipython3",
   "version": "3.12.3"
  }
 },
 "nbformat": 4,
 "nbformat_minor": 2
}
