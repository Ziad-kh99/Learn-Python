{
 "cells": [
  {
   "cell_type": "markdown",
   "metadata": {},
   "source": [
    "# Intro to collections:\n",
    "\n",
    "1. Counter:\n",
    "    - Stores elements as a dictionary keys and their counts.\n",
    "\n",
    "2. namedtuple:\n",
    "    - It's like creating a 'struct' with any number of fields.\n",
    "\n",
    "3. OrderdDict:\n",
    "    - It's like normal dict, but it remember the order of inserted elements.\n",
    "\n",
    "4. DefaultDict:\n",
    "    - Like normal dict except it implicitly assign a default value for a kay doesn't have.\n",
    "\n",
    "5. deque:\n",
    "    - represent 'queue' datastructure. \n"
   ]
  },
  {
   "cell_type": "code",
   "execution_count": null,
   "metadata": {},
   "outputs": [
    {
     "name": "stdout",
     "output_type": "stream",
     "text": [
      "('b', 4)\n"
     ]
    }
   ],
   "source": [
    "#> Counter:\n",
    "from collections import Counter \n",
    "\n",
    "a = 'aaabbbbccccc'\n",
    "my_counter1 = Counter(a)            # return dict.\n",
    "my_counter2 = my_counter1.items()   # return list of tuples.\n",
    "my_keys = my_counter1.keys()        # return list of 'dict_keys'\n",
    "my_values = my_counter1.values()    # return list of 'dict_values' \n",
    "\n",
    "# most common (n) repeated value (orderd):\n",
    "common_val = my_counter1.most_common(2)         # return list of tuples.\n",
    "common_val = my_counter1.most_common(3)[1]      # return 2nd element in list of tuble.\n",
    "common_val = my_counter1.most_common(2)[0][0]   # return key of 1st element.\n",
    "\n",
    "\n",
    "print(common_val)"
   ]
  },
  {
   "cell_type": "code",
   "execution_count": null,
   "metadata": {},
   "outputs": [
    {
     "name": "stdout",
     "output_type": "stream",
     "text": [
      "Point(x=12, y=75, z=-37)\n",
      "12 75 -37\n"
     ]
    }
   ],
   "source": [
    "# namedtuple:\n",
    "from collections import namedtuple \n",
    "\n",
    "Point = namedtuple('Point', 'x,y,z')\n",
    "# pt = Point(12, 75, (pt.x + pt.y))       # ok!\n",
    "pt = Point(12, 75, -37)\n",
    "print(pt)\n",
    "print(pt.x, pt.y, pt.z)\n",
    "\n"
   ]
  },
  {
   "cell_type": "code",
   "execution_count": 50,
   "metadata": {},
   "outputs": [
    {
     "name": "stdout",
     "output_type": "stream",
     "text": [
      "OrderedDict({'a': 0, 'b': 1, 'c': 2, 'd': 3, 'e': 4, 'f': 5, 'j': 6})\n"
     ]
    }
   ],
   "source": [
    "# OrderedDict:\n",
    "from collections import OrderedDict \n",
    "\n",
    "ordered_dict = OrderedDict()\n",
    "\n",
    "ordered_dict['a'] = 0\n",
    "ordered_dict['b'] = 1\n",
    "ordered_dict['c'] = 2\n",
    "ordered_dict['d'] = 3\n",
    "ordered_dict['e'] = 4\n",
    "ordered_dict['f'] = 5\n",
    "ordered_dict['j'] = 6\n",
    "\n",
    "print(ordered_dict)\n",
    "\n"
   ]
  },
  {
   "cell_type": "code",
   "execution_count": null,
   "metadata": {},
   "outputs": [
    {
     "name": "stdout",
     "output_type": "stream",
     "text": [
      "10\n",
      "0.0\n"
     ]
    }
   ],
   "source": [
    "# DefaultDict:\n",
    "from collections import defaultdict \n",
    "\n",
    "def_dict = defaultdict(int)     # 'int' here is the default type, which is 0. \n",
    "\n",
    "def_dict['a'] = 10\n",
    "def_dict['b'] = 20 \n",
    "\n",
    "print(def_dict['a'])\n",
    "print(def_dict['c'])    # return defaut value of int (0), and don't raise 'KeyError'."
   ]
  },
  {
   "cell_type": "code",
   "execution_count": null,
   "metadata": {},
   "outputs": [
    {
     "name": "stdout",
     "output_type": "stream",
     "text": [
      "deque([0, 1, 2, 3])\n",
      "deque([-3, -2, -1, 0, 1, 2, 3, 4])\n"
     ]
    }
   ],
   "source": [
    "# deque:\n",
    "from collections import deque \n",
    "\n",
    "q = deque()\n",
    "\n",
    "# insert elements to queue:\n",
    "q.append(0)\n",
    "q.append(1)\n",
    "q.append(2)\n",
    "q.append(3)\n",
    "\n",
    "print(q)        # return list of orderd queue\n",
    "\n",
    "# insert elements to left side (at the beginning)\n",
    "q.appendleft(-1)\n",
    "\n",
    "\n",
    "# insert multiple elements at a time:\n",
    "q.extend([4, 5, 6])\n",
    "q.extendleft([-2, -3, -4])\n",
    "\n",
    "# remove elements:\n",
    "q.pop()\n",
    "q.pop()\n",
    "q.popleft()\n",
    "\n",
    "# remove all elements:\n",
    "#q.clear()\n",
    "\n",
    "\n",
    "print(q)\n",
    "\n",
    "\n",
    "\n"
   ]
  }
 ],
 "metadata": {
  "kernelspec": {
   "display_name": "Python 3",
   "language": "python",
   "name": "python3"
  },
  "language_info": {
   "codemirror_mode": {
    "name": "ipython",
    "version": 3
   },
   "file_extension": ".py",
   "mimetype": "text/x-python",
   "name": "python",
   "nbconvert_exporter": "python",
   "pygments_lexer": "ipython3",
   "version": "3.12.3"
  }
 },
 "nbformat": 4,
 "nbformat_minor": 2
}
