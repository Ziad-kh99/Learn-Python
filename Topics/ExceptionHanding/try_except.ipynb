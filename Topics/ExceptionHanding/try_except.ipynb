{
 "cells": [
  {
   "cell_type": "code",
   "execution_count": 1,
   "metadata": {},
   "outputs": [
    {
     "ename": "ZeroDivisionError",
     "evalue": "division by zero",
     "output_type": "error",
     "traceback": [
      "\u001b[0;31m---------------------------------------------------------------------------\u001b[0m",
      "\u001b[0;31mZeroDivisionError\u001b[0m                         Traceback (most recent call last)",
      "Cell \u001b[0;32mIn[1], line 6\u001b[0m\n\u001b[1;32m      4\u001b[0m num1 \u001b[38;5;241m=\u001b[39m \u001b[38;5;241m5\u001b[39m\n\u001b[1;32m      5\u001b[0m num2 \u001b[38;5;241m=\u001b[39m \u001b[38;5;241m0\u001b[39m\n\u001b[0;32m----> 6\u001b[0m num3 \u001b[38;5;241m=\u001b[39m \u001b[43mnum1\u001b[49m\u001b[43m \u001b[49m\u001b[38;5;241;43m/\u001b[39;49m\u001b[43m \u001b[49m\u001b[43mnum2\u001b[49m              \u001b[38;5;66;03m# this will raise an DivideByZeroError\u001b[39;00m\n",
      "\u001b[0;31mZeroDivisionError\u001b[0m: division by zero"
     ]
    }
   ],
   "source": [
    "# naive code:\n",
    "\n",
    "\n",
    "num1 = 5\n",
    "num2 = 0\n",
    "num3 = num1 / num2              # this will raise an ZeroDivisionError.\n",
    "\n",
    "print('End of the program')     # this statement won't be reached."
   ]
  },
  {
   "cell_type": "code",
   "execution_count": 2,
   "metadata": {},
   "outputs": [
    {
     "name": "stdout",
     "output_type": "stream",
     "text": [
      "Invalid mathimatical operation.\n",
      "End of the program.\n"
     ]
    }
   ],
   "source": [
    "# try - except\n",
    "\n",
    "num1 = 5\n",
    "num2 = 0\n",
    "\n",
    "try:\n",
    "    num3 = num1 / num2\n",
    "except:\n",
    "    print('Invalid mathimatical operation.')\n",
    "\n",
    "print('End of the program.')"
   ]
  },
  {
   "cell_type": "code",
   "execution_count": 33,
   "metadata": {},
   "outputs": [
    {
     "name": "stdout",
     "output_type": "stream",
     "text": [
      "Invalid mathimatical operation\n",
      "End of the program\n"
     ]
    }
   ],
   "source": [
    "# try - except - else:\n",
    "\n",
    "num1 = 5\n",
    "num2 = 0\n",
    "\n",
    "try:\n",
    "    num3 = num1 / num2\n",
    "except:\n",
    "    print('Invalid mathimatical operation')\n",
    "else:\n",
    "    print(num3)\n",
    "\n",
    "\n",
    "print('End of the program')"
   ]
  },
  {
   "cell_type": "code",
   "execution_count": 39,
   "metadata": {},
   "outputs": [
    {
     "name": "stdout",
     "output_type": "stream",
     "text": [
      "Until then your code run successfuly\n",
      "Something went wrong.\n",
      "End of the program\n"
     ]
    }
   ],
   "source": [
    "# try - except - else - finaly\n",
    "\n",
    "num1 = 5\n",
    "num2 = 2\n",
    "\n",
    "try: \n",
    "    num3 = num1 / num2\n",
    "except:\n",
    "    print('Invalid mathimatical operation.')\n",
    "else:\n",
    "    print('Until then your code run successfuly')\n",
    "    try:\n",
    "        print(num4)\n",
    "    except:\n",
    "        print('Something went wrong.')\n",
    "finally:\n",
    "    print('End of the program')\n",
    "\n"
   ]
  },
  {
   "cell_type": "code",
   "execution_count": 32,
   "metadata": {},
   "outputs": [
    {
     "name": "stdout",
     "output_type": "stream",
     "text": [
      "2.5\n",
      "End of the program\n"
     ]
    }
   ],
   "source": [
    "# specify possible exceptin types with muliple exepts blocks:\n",
    "\n",
    "num1 = 5\n",
    "num2 = 2\n",
    "\n",
    "try:\n",
    "    num3 = num1 / num2\n",
    "except ZeroDivisionError as e:\n",
    "    print(f'Erro: {e}')\n",
    "except NameError as e:\n",
    "    print(f'Error: {e}')\n",
    "except Exception as e:\n",
    "    print(f'{e}')\n",
    "else: \n",
    "    try:\n",
    "        print(num3)\n",
    "    except NameError as e:\n",
    "        print(f'Error: {e}')\n",
    "finally:\n",
    "    print('End of the program')\n",
    "\n"
   ]
  }
 ],
 "metadata": {
  "kernelspec": {
   "display_name": "Python 3",
   "language": "python",
   "name": "python3"
  },
  "language_info": {
   "codemirror_mode": {
    "name": "ipython",
    "version": 3
   },
   "file_extension": ".py",
   "mimetype": "text/x-python",
   "name": "python",
   "nbconvert_exporter": "python",
   "pygments_lexer": "ipython3",
   "version": "3.12.3"
  }
 },
 "nbformat": 4,
 "nbformat_minor": 2
}
