{
 "cells": [
  {
   "cell_type": "code",
   "execution_count": null,
   "metadata": {},
   "outputs": [
    {
     "name": "stdout",
     "output_type": "stream",
     "text": [
      "\tTab\n",
      "\\tTab\n"
     ]
    }
   ],
   "source": [
    "# Raw string:\n",
    "    # Raw string prints any string \"literally\" including escape sequences.\n",
    "\n",
    "print('\\tTab')      # normal string include secape sequence.\n",
    "print(r'\\tTab')     # raw string.\n",
    "\n",
    "\n",
    "# We need 'rew string' because RegEx doesn't need Python to mainpulate string in anyway."
   ]
  },
  {
   "cell_type": "code",
   "execution_count": null,
   "metadata": {},
   "outputs": [
    {
     "name": "stdout",
     "output_type": "stream",
     "text": [
      "<re.Match object; span=(1, 15), match='CoreyMSchafer@'>\n",
      "<re.Match object; span=(31, 39), match='schafer@'>\n",
      "<re.Match object; span=(63, 71), match='schafer@'>\n"
     ]
    }
   ],
   "source": [
    "# RegEx:\n",
    "import re       # \"re\" module represent RegEx in python.\n",
    "\n",
    "text_to_search = '''\n",
    "abcdefghijklmnopqrstuvwxyz_\n",
    "ABCDEFGHIJKLMNOPQRSTUVWXYZ\n",
    "1234567890\n",
    "\n",
    "Ha HaHa\n",
    "\n",
    "MetaCharacters (Need to be escaped):\n",
    ". ^ $ * + ? { } [ ] \\\\ | ( )\n",
    "\n",
    "coreyms.com\n",
    "\n",
    "\n",
    "321-555-4321\n",
    "123.555.1234\n",
    "123*555*1234\n",
    "800-555-8732\n",
    "900-555-7456\n",
    "900_555_4321\n",
    "\n",
    "\n",
    "Mr. Schafer\n",
    "Mr Smith\n",
    "Ms Davis\n",
    "Mrs. Robinson\n",
    "Mr. T\n",
    "'''\n",
    "\n",
    "sentence = 'Start a sentence and then bring it to an end'\n",
    "\n",
    "\n",
    "\n",
    "#> Compile methond: to reuse patterns.\n",
    "# pattern = re.compile(r'\\d\\d\\d.\\d\\d\\d.\\d\\d\\d\\d')\n",
    "\n",
    "#> using character set:\n",
    "pattern = re.compile(r'\\d\\d\\d[-.]\\d\\d\\d[-.]\\d\\d\\d\\d')   \n",
    "pattern = re.compile(r'[89]00[-.]\\d\\d\\d[-.]\\d\\d\\d\\d')\n",
    "\n",
    "#> using quantifires:\n",
    "pattern = re.compile(r'M[rs]s?\\.?')\n",
    "pattern = re.compile(r'(Mr|Ms|Mrs)\\.?')\n",
    "pattern = re.compile(r'M[rs]s?\\.?\\s[A-Za-z]\\w*')\n",
    "\n",
    "\n",
    "matches = pattern.finditer(emails)\n",
    "\n",
    "for match in matches:\n",
    "    print(match)\n",
    "\n",
    "\n"
   ]
  },
  {
   "cell_type": "code",
   "execution_count": null,
   "metadata": {},
   "outputs": [
    {
     "name": "stdout",
     "output_type": "stream",
     "text": [
      "<re.Match object; span=(1, 24), match='CoreyMSchafer@gmail.com'>\n",
      "<re.Match object; span=(25, 53), match='corey.schafer@university.edu'>\n",
      "<re.Match object; span=(54, 82), match='cory-321-schafer@my-work.net'>\n",
      "<re.Match object; span=(83, 103), match='ziad_dev@hotmail.com'>\n",
      "<re.Match object; span=(104, 124), match='ziad.dev99@gmail.com'>\n"
     ]
    }
   ],
   "source": [
    "#> Practice 1:\n",
    "import re\n",
    "\n",
    "\n",
    "emails = '''\n",
    "CoreyMSchafer@gmail.com\n",
    "corey.schafer@university.edu\n",
    "cory-321-schafer@my-work.net\n",
    "ziad_dev@hotmail.com\n",
    "ziad.dev99@gmail.com\n",
    "'''\n",
    "\n",
    "pattern = re.compile(r'[A-Za-z0-9.-]+@[A-Za-z-]+\\.(com|edu|net)')\n",
    "pattern = re.compile(r'[a-zA-Z0-9_.+-]+@[a-zA-Z0-9-]+\\.[a-zA-Z0-9-.]+')\n",
    "\n",
    "matches = pattern.finditer(emails)\n",
    "\n",
    "for match in matches:\n",
    "    print(match)\n"
   ]
  },
  {
   "cell_type": "code",
   "execution_count": 197,
   "metadata": {},
   "outputs": [
    {
     "name": "stdout",
     "output_type": "stream",
     "text": [
      "\n",
      "google.com\n",
      "coreyms.com\n",
      "youtube.com\n",
      "nasa.gov\n",
      "\n"
     ]
    }
   ],
   "source": [
    "# Practice 2:\n",
    "\n",
    "import re\n",
    "\n",
    "urls = '''\n",
    "https://www.google.com\n",
    "http://coreyms.com\n",
    "https://youtube.com\n",
    "https://www.nasa.gov\n",
    "'''\n",
    "\n",
    "\n",
    "pattern = re.compile(r'[a-z]+://[a-z.]+')\n",
    "pattern = re.compile(r'https?://(www\\.)?(\\w+)(\\.\\w+)')\n",
    "\n",
    "\n",
    "matches = pattern.finditer(urls)\n",
    "\n",
    "for match in matches:\n",
    "    # print(match)\n",
    "    # print(match.group(2))       # domian name.\n",
    "    # print(match.group(3))       # top-level domain name.\n",
    "    pass\n",
    "\n",
    "\n",
    "subbed_urls = pattern.sub(r'\\2\\3', urls)\n",
    "\n",
    "print(subbed_urls)"
   ]
  },
  {
   "cell_type": "code",
   "execution_count": 140,
   "metadata": {},
   "outputs": [
    {
     "name": "stdout",
     "output_type": "stream",
     "text": [
      "<re.Match object; span=(129, 140), match='Atlantis VA'>\n",
      "<re.Match object; span=(226, 234), match='AK 86847'>\n",
      "<re.Match object; span=(687, 694), match='A 29947'>\n",
      "<re.Match object; span=(824, 834), match='Arnold\\n608'>\n",
      "<re.Match object; span=(956, 963), match='A 99000'>\n",
      "<re.Match object; span=(1167, 1181), match='Barbara Martin'>\n",
      "<re.Match object; span=(1386, 1396), match='Balmora MT'>\n",
      "<re.Match object; span=(1436, 1446), match='Arnold\\n800'>\n",
      "<re.Match object; span=(1567, 1574), match='A 82767'>\n",
      "<re.Match object; span=(1734, 1747), match='Blackwater NH'>\n",
      "<re.Match object; span=(1820, 1830), match='Bedrock IA'>\n",
      "<re.Match object; span=(2166, 2176), match='Bedrock GA'>\n",
      "<re.Match object; span=(2247, 2257), match='Balmora OR'>\n",
      "<re.Match object; span=(2560, 2569), match='Brown\\n195'>\n",
      "<re.Match object; span=(2731, 2741), match='Arnold\\n133'>\n",
      "<re.Match object; span=(3317, 3330), match='Blackwater NC'>\n",
      "<re.Match object; span=(3404, 3415), match='Atlantis MS'>\n",
      "<re.Match object; span=(3484, 3495), match='Atlantis ND'>\n",
      "<re.Match object; span=(3667, 3674), match='A 64102'>\n",
      "<re.Match object; span=(3843, 3850), match='A 46692'>\n",
      "<re.Match object; span=(3930, 3938), match='AR 78455'>\n",
      "<re.Match object; span=(4089, 4099), match='Bedrock NE'>\n",
      "<re.Match object; span=(4359, 4367), match='AK 62260'>\n",
      "<re.Match object; span=(4541, 4549), match='AZ 18586'>\n",
      "<re.Match object; span=(4634, 4641), match='A 16272'>\n",
      "<re.Match object; span=(4811, 4818), match='A 54999'>\n",
      "<re.Match object; span=(4902, 4909), match='A 89260'>\n",
      "<re.Match object; span=(4978, 4991), match='Blackwater OH'>\n",
      "<re.Match object; span=(5033, 5043), match='Arnold\\n936'>\n",
      "<re.Match object; span=(5067, 5078), match='Atlantis NH'>\n",
      "<re.Match object; span=(5415, 5428), match='Blackwater CT'>\n",
      "<re.Match object; span=(5566, 5575), match='Brown\\n900'>\n",
      "<re.Match object; span=(5645, 5661), match='Barbara Williams'>\n",
      "<re.Match object; span=(5689, 5699), match='Balmora NV'>\n",
      "<re.Match object; span=(5788, 5795), match='A 51312'>\n",
      "<re.Match object; span=(5918, 5930), match='Anderson\\n525'>\n",
      "<re.Match object; span=(5965, 5972), match='A 78862'>\n",
      "<re.Match object; span=(6447, 6456), match='Brown\\n711'>\n",
      "<re.Match object; span=(6565, 6578), match='Blackwater AR'>\n",
      "<re.Match object; span=(6702, 6718), match='Barbara Williams'>\n",
      "<re.Match object; span=(6756, 6763), match='A 26245'>\n",
      "<re.Match object; span=(6931, 6939), match='AL 97503'>\n",
      "<re.Match object; span=(7289, 7296), match='A 74526'>\n",
      "<re.Match object; span=(7377, 7387), match='Bedrock IL'>\n",
      "<re.Match object; span=(7562, 7569), match='A 22772'>\n",
      "<re.Match object; span=(7641, 7652), match='Atlantis HI'>\n",
      "<re.Match object; span=(7780, 7790), match='Arnold\\n274'>\n",
      "<re.Match object; span=(7823, 7830), match='A 73860'>\n",
      "<re.Match object; span=(7899, 7909), match='Balmora IN'>\n",
      "<re.Match object; span=(8132, 8142), match='Arnold\\n705'>\n",
      "<re.Match object; span=(8177, 8184), match='A 31836'>\n",
      "<re.Match object; span=(8700, 8708), match='AZ 16547'>\n",
      "<re.Match object; span=(8784, 8797), match='Blackwater MA'>\n"
     ]
    }
   ],
   "source": [
    "# Extract data from a text file:\n",
    "\n",
    "import re \n",
    "\n",
    "file_handle = open('data.txt').read()   # read all data to a string variable.\n",
    "\n",
    "# Match any phone number:\n",
    "pattern = re.compile(r'\\d\\d\\d.\\d\\d\\d.\\d\\d\\d\\d')\n",
    "pattern = re.compile(r'\\d{3}-\\d{3}-\\d{4}')\n",
    "    \n",
    "# Match phone numbers that starts with 800 or 900 only.\n",
    "pattern = re.compile(r'[89]00-\\d\\d\\d-\\d\\d\\d\\d') \n",
    "\n",
    "# Match names that start with A and B\n",
    "pattern = re.compile(r'[AB]\\w*\\s\\w*')\n",
    "\n",
    "matches = pattern.finditer(file_handle)\n",
    "\n",
    "for match in matches:\n",
    "    print(match)\n",
    "\n",
    "\n",
    "\n"
   ]
  }
 ],
 "metadata": {
  "kernelspec": {
   "display_name": "Python 3",
   "language": "python",
   "name": "python3"
  },
  "language_info": {
   "codemirror_mode": {
    "name": "ipython",
    "version": 3
   },
   "file_extension": ".py",
   "mimetype": "text/x-python",
   "name": "python",
   "nbconvert_exporter": "python",
   "pygments_lexer": "ipython3",
   "version": "3.13.0"
  }
 },
 "nbformat": 4,
 "nbformat_minor": 2
}
