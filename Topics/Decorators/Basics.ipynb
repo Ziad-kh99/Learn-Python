{
 "cells": [
  {
   "cell_type": "markdown",
   "id": "06f79bea",
   "metadata": {},
   "source": [
    "- Decorators add functionaltiy to a function."
   ]
  },
  {
   "cell_type": "code",
   "execution_count": 6,
   "id": "bdf71920",
   "metadata": {},
   "outputs": [
    {
     "name": "stdout",
     "output_type": "stream",
     "text": [
      "I am decorating your function.\n",
      "Hello world\n"
     ]
    }
   ],
   "source": [
    "# Nested Function:\n",
    "\n",
    "def mydecorator(function):\n",
    "    def wrapper():\n",
    "        print('I am decorating your function.')\n",
    "        function()\n",
    "    \n",
    "    return wrapper\n",
    "\n",
    "def hello_world():\n",
    "    print('Hello world')\n",
    "\n",
    "\n",
    "mydecorator(hello_world)()\n",
    "\n"
   ]
  },
  {
   "cell_type": "code",
   "execution_count": null,
   "id": "886a50ca",
   "metadata": {},
   "outputs": [
    {
     "name": "stdout",
     "output_type": "stream",
     "text": [
      "hello world\n",
      "I am decorating your function.\n"
     ]
    }
   ],
   "source": [
    "# Annotation: decorate a function using annotation.\n",
    "\n",
    "def mydecorator(function):\n",
    "    def wrapper():\n",
    "        function()\n",
    "        print('I am decorating your function.')\n",
    "\n",
    "    return wrapper\n",
    "\n",
    "@mydecorator        \n",
    "def hello_world():\n",
    "    print('hello world')\n",
    "\n",
    "hello_world()\n"
   ]
  },
  {
   "cell_type": "code",
   "execution_count": 33,
   "id": "64261d6f",
   "metadata": {},
   "outputs": [
    {
     "name": "stdout",
     "output_type": "stream",
     "text": [
      "I am decorating your function\n",
      "Hello ziad\n",
      "I am decorating your function\n",
      "Hello world\n"
     ]
    }
   ],
   "source": [
    "# Parameters:\n",
    "\n",
    "def mydecorator(funciton):\n",
    "    def wrapper(*args, **kwargs):\n",
    "        print('I am decorating your function')\n",
    "        funciton(*args, **kwargs)\n",
    "\n",
    "    return wrapper\n",
    "\n",
    "@mydecorator\n",
    "def hello(name):\n",
    "    print(f'Hello {name}')\n",
    "\n",
    "hello('ziad')\n",
    "\n",
    "\n",
    "@mydecorator\n",
    "def hello_world():\n",
    "    print('Hello world')\n",
    "\n",
    "hello_world()\n",
    "\n"
   ]
  },
  {
   "cell_type": "code",
   "execution_count": 53,
   "id": "a2e52eb5",
   "metadata": {},
   "outputs": [
    {
     "name": "stdout",
     "output_type": "stream",
     "text": [
      "some logic\n",
      "I am decorating your function\n",
      "Hello Ziad\n"
     ]
    }
   ],
   "source": [
    "# return a value:\n",
    "\n",
    "\n",
    "def mydecorator(function):\n",
    "    def wrapper(*args, **kwargs):\n",
    "        return_value = function(*args, **kwargs)\n",
    "        print('I am decorating your function')\n",
    "        return return_value\n",
    "        \n",
    "    return wrapper\n",
    "\n",
    "@mydecorator\n",
    "def hello(name):\n",
    "    print('some logic')\n",
    "    return f'Hello {name}'\n",
    "\n",
    "\n",
    "print(hello('Ziad'))"
   ]
  }
 ],
 "metadata": {
  "kernelspec": {
   "display_name": ".venv",
   "language": "python",
   "name": "python3"
  },
  "language_info": {
   "codemirror_mode": {
    "name": "ipython",
    "version": 3
   },
   "file_extension": ".py",
   "mimetype": "text/x-python",
   "name": "python",
   "nbconvert_exporter": "python",
   "pygments_lexer": "ipython3",
   "version": "3.12.3"
  }
 },
 "nbformat": 4,
 "nbformat_minor": 5
}
