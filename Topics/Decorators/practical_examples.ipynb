{
 "cells": [
  {
   "cell_type": "code",
   "execution_count": 12,
   "id": "e076abf1",
   "metadata": {},
   "outputs": [
    {
     "name": "stdout",
     "output_type": "stream",
     "text": [
      "add returned value 150\n",
      "150\n"
     ]
    }
   ],
   "source": [
    "# Example 1: Logging.\n",
    "\n",
    "def logged(function):\n",
    "    def wrapper(*args, **kwargs):\n",
    "        value = function(*args, **kwargs)\n",
    "        with open('log_file.txt', 'a+') as f:\n",
    "            func_name = function.__name__\n",
    "            print(f'{func_name} returned value {value}')\n",
    "            f.write(f'{func_name} returned value {value}\\n')\n",
    "        return value\n",
    "\n",
    "    return wrapper\n",
    "\n",
    "@logged\n",
    "def add(x, y):\n",
    "    return x + y\n",
    "\n",
    "print(add(10, 140))"
   ]
  },
  {
   "cell_type": "code",
   "execution_count": 23,
   "id": "d7c5f960",
   "metadata": {},
   "outputs": [
    {
     "name": "stdout",
     "output_type": "stream",
     "text": [
      "anyfunction took 1.0728836059570312e-05 seconds to be executed\n"
     ]
    },
    {
     "data": {
      "text/plain": [
       "933262154439441526816992388562667004907159682643816214685929638952175999932299156089414639761565182862536979208272237582511852109168640000000000000000000000"
      ]
     },
     "execution_count": 23,
     "metadata": {},
     "output_type": "execute_result"
    }
   ],
   "source": [
    "# Example 2: Timing.\n",
    "\n",
    "import time\n",
    "\n",
    "def timed(function):\n",
    "    def wrapper(*args, **kwargs):\n",
    "        before = time.time()        # current time\n",
    "        value = function(*args, **kwargs)\n",
    "        after = time.time()\n",
    "        func_name = function.__name__\n",
    "        print(f'{func_name} took {after - before} seconds to be executed')\n",
    "\n",
    "        return value\n",
    "    \n",
    "    return wrapper\n",
    "\n",
    "@timed\n",
    "def anyfunction(x):\n",
    "    result = 1\n",
    "    for i in range (1, x):\n",
    "        result *= i\n",
    "\n",
    "    return result\n",
    "\n",
    "anyfunction(100)\n",
    "\n"
   ]
  }
 ],
 "metadata": {
  "kernelspec": {
   "display_name": ".venv",
   "language": "python",
   "name": "python3"
  },
  "language_info": {
   "codemirror_mode": {
    "name": "ipython",
    "version": 3
   },
   "file_extension": ".py",
   "mimetype": "text/x-python",
   "name": "python",
   "nbconvert_exporter": "python",
   "pygments_lexer": "ipython3",
   "version": "3.12.3"
  }
 },
 "nbformat": 4,
 "nbformat_minor": 5
}
